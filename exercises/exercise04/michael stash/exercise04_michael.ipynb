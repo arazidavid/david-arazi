{
 "cells": [
  {
   "cell_type": "markdown",
   "id": "61688034-24b5-4400-8b06-7e3188b283f1",
   "metadata": {},
   "source": [
    "Urban Data Science & Smart Cities <br>\n",
    "URSP688Y Spring 2025<br>\n",
    "Instructor: Chester Harvey <br>\n",
    "Urban Studies & Planning <br>\n",
    "National Center for Smart Growth <br>\n",
    "University of Maryland"
   ]
  },
  {
   "cell_type": "markdown",
   "id": "3f9c1002-000c-4080-a9f1-43e319e7d0be",
   "metadata": {},
   "source": [
    "# Exercise04\n",
    "\n",
    "This last exercise is an opportunity for you to get started on your final project. Please identify a portion of your project to get started on and submit a notebook (and any other related files) where you:\n",
    "\n",
    "1. State the question you are aiming to address with this portion of your analysis\n",
    "2. Outline the approach you will use to answer that question (pseudocode or you can start to more formally outline the approach section for your final narrative)\n",
    "3. Operationalize your approach with data and code that you can later slot into your final analysis\n",
    "\n",
    "## Submitting\n",
    "\n",
    "Please make a pull request with all of your code and reasonably-sized data in a folder with your first name. See the example with my name in the `exercise04` directory.\n",
    "\n",
    "If you have datasets that are too large for GitHub or should not be made public, please upload them to a cloud location (e.g., Google Drive) to which I (and ideally your classmates) have access. Please also provide instructions for how someone running your code should properly locate or connect to these files so the analysis will run properly. For example, should they copy and paste the files into the same directory as your notebook, or a provided `data` directory? Best practice is to include these instructions in a separate ReadMe.md or ReadMe.txt file, or at the top of your notebook."
   ]
  },
  {
   "cell_type": "code",
   "execution_count": null,
   "id": "1520d252-ba00-4330-b13e-7551d3d42807",
   "metadata": {},
   "outputs": [],
<<<<<<< Updated upstream
<<<<<<< Updated upstream
   "source": []
=======
=======
>>>>>>> Stashed changes
   "source": [
    "## Exercise 04 - City of College Park Zoning- and Development-Based Transit Underutilization Analysis\n",
    "\n",
    "### Files\n",
    "- `underutilization_analysis.ipynb`: notebook with code and description\n",
    "- `parcels.geojson` and `zoning.geojson`: spatial datasets used in analysis\n",
    "\n",
    "### Instructions\n",
    "Place datasets in a `data/` folder at the root of the notebook directory. You can access the original data files here: [Google Drive link]\n",
    "\n",
    "This notebook filters and joins zoning + parcel data, computes built vs. allowed density, and calculates an underutilization score for each parcel.\n"
   ]
  },
  {
   "cell_type": "code",
   "execution_count": 36,
   "id": "d2b590db-5812-4cbc-805e-7fc62320bf76",
   "metadata": {},
   "outputs": [
    {
     "name": "stderr",
     "output_type": "stream",
     "text": [
      "C:\\Users\\mboch\\AppData\\Local\\Temp\\ipykernel_18080\\1363678174.py:22: UserWarning: CRS mismatch between the CRS of left geometries and the CRS of right geometries.\n",
      "Use `to_crs()` to reproject one of the input geometries to match the CRS of the other.\n",
      "\n",
      "Left CRS: EPSG:3857\n",
      "Right CRS: COMPD_CS[\"NAD83 / Maryland (ftUS) + NAVD88 height\" ...\n",
      "\n",
      "  buffered_parcels = gpd.sjoin(parcels, stations_buffer, how=\"inner\", predicate=\"intersects\")\n",
      "C:\\Users\\mboch\\AppData\\Local\\Temp\\ipykernel_18080\\1363678174.py:60: UserWarning: The GeoDataFrame you are attempting to plot is empty. Nothing has been displayed.\n",
      "  parcels_zoned.plot(ax=ax, column=\"underutilized\", cmap=\"coolwarm\", legend=True)\n",
      "C:\\Users\\mboch\\miniconda3\\envs\\688y\\Lib\\site-packages\\contextily\\tile.py:645: UserWarning: The inferred zoom level of 27 is not valid for the current tile provider (valid zooms: 0 - 20).\n",
      "  warnings.warn(msg)\n"
     ]
    },
    {
     "ename": "HTTPError",
     "evalue": "Connection reset by peer too many times. Last message was: 500 Error: Domain Not Found for url: https://stamen-tiles-a.a.ssl.fastly.net/toner-lite/20/524288/524287.png",
     "output_type": "error",
     "traceback": [
      "\u001b[1;31m---------------------------------------------------------------------------\u001b[0m",
      "\u001b[1;31mHTTPError\u001b[0m                                 Traceback (most recent call last)",
      "File \u001b[1;32m~\\miniconda3\\envs\\688y\\Lib\\site-packages\\contextily\\tile.py:453\u001b[0m, in \u001b[0;36m_retryer\u001b[1;34m(tile_url, wait, max_retries)\u001b[0m\n\u001b[0;32m    452\u001b[0m request \u001b[38;5;241m=\u001b[39m requests\u001b[38;5;241m.\u001b[39mget(tile_url, headers\u001b[38;5;241m=\u001b[39m{\u001b[38;5;124m\"\u001b[39m\u001b[38;5;124muser-agent\u001b[39m\u001b[38;5;124m\"\u001b[39m: USER_AGENT})\n\u001b[1;32m--> 453\u001b[0m request\u001b[38;5;241m.\u001b[39mraise_for_status()\n\u001b[0;32m    454\u001b[0m \u001b[38;5;28;01mwith\u001b[39;00m io\u001b[38;5;241m.\u001b[39mBytesIO(request\u001b[38;5;241m.\u001b[39mcontent) \u001b[38;5;28;01mas\u001b[39;00m image_stream:\n",
      "File \u001b[1;32m~\\miniconda3\\envs\\688y\\Lib\\site-packages\\requests\\models.py:1024\u001b[0m, in \u001b[0;36mResponse.raise_for_status\u001b[1;34m(self)\u001b[0m\n\u001b[0;32m   1023\u001b[0m \u001b[38;5;28;01mif\u001b[39;00m http_error_msg:\n\u001b[1;32m-> 1024\u001b[0m     \u001b[38;5;28;01mraise\u001b[39;00m HTTPError(http_error_msg, response\u001b[38;5;241m=\u001b[39m\u001b[38;5;28mself\u001b[39m)\n",
      "\u001b[1;31mHTTPError\u001b[0m: 500 Server Error: Domain Not Found for url: https://stamen-tiles-a.a.ssl.fastly.net/toner-lite/20/524288/524287.png",
      "\nDuring handling of the above exception, another exception occurred:\n",
      "\u001b[1;31mHTTPError\u001b[0m                                 Traceback (most recent call last)",
      "File \u001b[1;32m~\\miniconda3\\envs\\688y\\Lib\\site-packages\\contextily\\tile.py:453\u001b[0m, in \u001b[0;36m_retryer\u001b[1;34m(tile_url, wait, max_retries)\u001b[0m\n\u001b[0;32m    452\u001b[0m request \u001b[38;5;241m=\u001b[39m requests\u001b[38;5;241m.\u001b[39mget(tile_url, headers\u001b[38;5;241m=\u001b[39m{\u001b[38;5;124m\"\u001b[39m\u001b[38;5;124muser-agent\u001b[39m\u001b[38;5;124m\"\u001b[39m: USER_AGENT})\n\u001b[1;32m--> 453\u001b[0m request\u001b[38;5;241m.\u001b[39mraise_for_status()\n\u001b[0;32m    454\u001b[0m \u001b[38;5;28;01mwith\u001b[39;00m io\u001b[38;5;241m.\u001b[39mBytesIO(request\u001b[38;5;241m.\u001b[39mcontent) \u001b[38;5;28;01mas\u001b[39;00m image_stream:\n",
      "File \u001b[1;32m~\\miniconda3\\envs\\688y\\Lib\\site-packages\\requests\\models.py:1024\u001b[0m, in \u001b[0;36mResponse.raise_for_status\u001b[1;34m(self)\u001b[0m\n\u001b[0;32m   1023\u001b[0m \u001b[38;5;28;01mif\u001b[39;00m http_error_msg:\n\u001b[1;32m-> 1024\u001b[0m     \u001b[38;5;28;01mraise\u001b[39;00m HTTPError(http_error_msg, response\u001b[38;5;241m=\u001b[39m\u001b[38;5;28mself\u001b[39m)\n",
      "\u001b[1;31mHTTPError\u001b[0m: 500 Server Error: Domain Not Found for url: https://stamen-tiles-a.a.ssl.fastly.net/toner-lite/20/524288/524287.png",
      "\nDuring handling of the above exception, another exception occurred:\n",
      "\u001b[1;31mHTTPError\u001b[0m                                 Traceback (most recent call last)",
      "File \u001b[1;32m~\\miniconda3\\envs\\688y\\Lib\\site-packages\\contextily\\tile.py:453\u001b[0m, in \u001b[0;36m_retryer\u001b[1;34m(tile_url, wait, max_retries)\u001b[0m\n\u001b[0;32m    452\u001b[0m request \u001b[38;5;241m=\u001b[39m requests\u001b[38;5;241m.\u001b[39mget(tile_url, headers\u001b[38;5;241m=\u001b[39m{\u001b[38;5;124m\"\u001b[39m\u001b[38;5;124muser-agent\u001b[39m\u001b[38;5;124m\"\u001b[39m: USER_AGENT})\n\u001b[1;32m--> 453\u001b[0m request\u001b[38;5;241m.\u001b[39mraise_for_status()\n\u001b[0;32m    454\u001b[0m \u001b[38;5;28;01mwith\u001b[39;00m io\u001b[38;5;241m.\u001b[39mBytesIO(request\u001b[38;5;241m.\u001b[39mcontent) \u001b[38;5;28;01mas\u001b[39;00m image_stream:\n",
      "File \u001b[1;32m~\\miniconda3\\envs\\688y\\Lib\\site-packages\\requests\\models.py:1024\u001b[0m, in \u001b[0;36mResponse.raise_for_status\u001b[1;34m(self)\u001b[0m\n\u001b[0;32m   1023\u001b[0m \u001b[38;5;28;01mif\u001b[39;00m http_error_msg:\n\u001b[1;32m-> 1024\u001b[0m     \u001b[38;5;28;01mraise\u001b[39;00m HTTPError(http_error_msg, response\u001b[38;5;241m=\u001b[39m\u001b[38;5;28mself\u001b[39m)\n",
      "\u001b[1;31mHTTPError\u001b[0m: 500 Server Error: Domain Not Found for url: https://stamen-tiles-a.a.ssl.fastly.net/toner-lite/20/524288/524287.png",
      "\nDuring handling of the above exception, another exception occurred:\n",
      "\u001b[1;31mHTTPError\u001b[0m                                 Traceback (most recent call last)",
      "Cell \u001b[1;32mIn[36], line 61\u001b[0m\n\u001b[0;32m     59\u001b[0m fig, ax \u001b[38;5;241m=\u001b[39m plt\u001b[38;5;241m.\u001b[39msubplots(figsize\u001b[38;5;241m=\u001b[39m(\u001b[38;5;241m10\u001b[39m, \u001b[38;5;241m10\u001b[39m))\n\u001b[0;32m     60\u001b[0m parcels_zoned\u001b[38;5;241m.\u001b[39mplot(ax\u001b[38;5;241m=\u001b[39max, column\u001b[38;5;241m=\u001b[39m\u001b[38;5;124m\"\u001b[39m\u001b[38;5;124munderutilized\u001b[39m\u001b[38;5;124m\"\u001b[39m, cmap\u001b[38;5;241m=\u001b[39m\u001b[38;5;124m\"\u001b[39m\u001b[38;5;124mcoolwarm\u001b[39m\u001b[38;5;124m\"\u001b[39m, legend\u001b[38;5;241m=\u001b[39m\u001b[38;5;28;01mTrue\u001b[39;00m)\n\u001b[1;32m---> 61\u001b[0m ctx\u001b[38;5;241m.\u001b[39madd_basemap(ax, source\u001b[38;5;241m=\u001b[39mctx\u001b[38;5;241m.\u001b[39mproviders\u001b[38;5;241m.\u001b[39mStamen\u001b[38;5;241m.\u001b[39mTonerLite)\n\u001b[0;32m     62\u001b[0m plt\u001b[38;5;241m.\u001b[39mtitle(\u001b[38;5;124m\"\u001b[39m\u001b[38;5;124mUnderutilized Parcels near Metro Stations\u001b[39m\u001b[38;5;124m\"\u001b[39m)\n\u001b[0;32m     63\u001b[0m plt\u001b[38;5;241m.\u001b[39maxis(\u001b[38;5;124m\"\u001b[39m\u001b[38;5;124moff\u001b[39m\u001b[38;5;124m\"\u001b[39m)\n",
      "File \u001b[1;32m~\\miniconda3\\envs\\688y\\Lib\\site-packages\\contextily\\plotting.py:134\u001b[0m, in \u001b[0;36madd_basemap\u001b[1;34m(ax, zoom, source, interpolation, attribution, attribution_size, reset_extent, crs, resampling, zoom_adjust, **extra_imshow_args)\u001b[0m\n\u001b[0;32m    130\u001b[0m     left, right, bottom, top \u001b[38;5;241m=\u001b[39m _reproj_bb(\n\u001b[0;32m    131\u001b[0m         left, right, bottom, top, crs, \u001b[38;5;124m\"\u001b[39m\u001b[38;5;124mepsg:3857\u001b[39m\u001b[38;5;124m\"\u001b[39m\n\u001b[0;32m    132\u001b[0m     )\n\u001b[0;32m    133\u001b[0m \u001b[38;5;66;03m# Download image\u001b[39;00m\n\u001b[1;32m--> 134\u001b[0m image, extent \u001b[38;5;241m=\u001b[39m bounds2img(\n\u001b[0;32m    135\u001b[0m     left,\n\u001b[0;32m    136\u001b[0m     bottom,\n\u001b[0;32m    137\u001b[0m     right,\n\u001b[0;32m    138\u001b[0m     top,\n\u001b[0;32m    139\u001b[0m     zoom\u001b[38;5;241m=\u001b[39mzoom,\n\u001b[0;32m    140\u001b[0m     source\u001b[38;5;241m=\u001b[39msource,\n\u001b[0;32m    141\u001b[0m     ll\u001b[38;5;241m=\u001b[39m\u001b[38;5;28;01mFalse\u001b[39;00m,\n\u001b[0;32m    142\u001b[0m     zoom_adjust\u001b[38;5;241m=\u001b[39mzoom_adjust,\n\u001b[0;32m    143\u001b[0m )\n\u001b[0;32m    144\u001b[0m \u001b[38;5;66;03m# Warping\u001b[39;00m\n\u001b[0;32m    145\u001b[0m \u001b[38;5;28;01mif\u001b[39;00m crs \u001b[38;5;129;01mis\u001b[39;00m \u001b[38;5;129;01mnot\u001b[39;00m \u001b[38;5;28;01mNone\u001b[39;00m:\n",
      "File \u001b[1;32m~\\miniconda3\\envs\\688y\\Lib\\site-packages\\contextily\\tile.py:283\u001b[0m, in \u001b[0;36mbounds2img\u001b[1;34m(w, s, e, n, zoom, source, ll, wait, max_retries, n_connections, use_cache, zoom_adjust)\u001b[0m\n\u001b[0;32m    279\u001b[0m preferred_backend \u001b[38;5;241m=\u001b[39m (\n\u001b[0;32m    280\u001b[0m     \u001b[38;5;124m\"\u001b[39m\u001b[38;5;124mthreads\u001b[39m\u001b[38;5;124m\"\u001b[39m \u001b[38;5;28;01mif\u001b[39;00m (n_connections \u001b[38;5;241m==\u001b[39m \u001b[38;5;241m1\u001b[39m \u001b[38;5;129;01mor\u001b[39;00m \u001b[38;5;129;01mnot\u001b[39;00m use_cache) \u001b[38;5;28;01melse\u001b[39;00m \u001b[38;5;124m\"\u001b[39m\u001b[38;5;124mprocesses\u001b[39m\u001b[38;5;124m\"\u001b[39m\n\u001b[0;32m    281\u001b[0m )\n\u001b[0;32m    282\u001b[0m fetch_tile_fn \u001b[38;5;241m=\u001b[39m memory\u001b[38;5;241m.\u001b[39mcache(_fetch_tile) \u001b[38;5;28;01mif\u001b[39;00m use_cache \u001b[38;5;28;01melse\u001b[39;00m _fetch_tile\n\u001b[1;32m--> 283\u001b[0m arrays \u001b[38;5;241m=\u001b[39m Parallel(n_jobs\u001b[38;5;241m=\u001b[39mn_connections, prefer\u001b[38;5;241m=\u001b[39mpreferred_backend)(\n\u001b[0;32m    284\u001b[0m     delayed(fetch_tile_fn)(tile_url, wait, max_retries) \u001b[38;5;28;01mfor\u001b[39;00m tile_url \u001b[38;5;129;01min\u001b[39;00m tile_urls\n\u001b[0;32m    285\u001b[0m )\n\u001b[0;32m    286\u001b[0m \u001b[38;5;66;03m# merge downloaded tiles\u001b[39;00m\n\u001b[0;32m    287\u001b[0m merged, extent \u001b[38;5;241m=\u001b[39m _merge_tiles(tiles, arrays)\n",
      "File \u001b[1;32m~\\miniconda3\\envs\\688y\\Lib\\site-packages\\joblib\\parallel.py:1918\u001b[0m, in \u001b[0;36mParallel.__call__\u001b[1;34m(self, iterable)\u001b[0m\n\u001b[0;32m   1916\u001b[0m     output \u001b[38;5;241m=\u001b[39m \u001b[38;5;28mself\u001b[39m\u001b[38;5;241m.\u001b[39m_get_sequential_output(iterable)\n\u001b[0;32m   1917\u001b[0m     \u001b[38;5;28mnext\u001b[39m(output)\n\u001b[1;32m-> 1918\u001b[0m     \u001b[38;5;28;01mreturn\u001b[39;00m output \u001b[38;5;28;01mif\u001b[39;00m \u001b[38;5;28mself\u001b[39m\u001b[38;5;241m.\u001b[39mreturn_generator \u001b[38;5;28;01melse\u001b[39;00m \u001b[38;5;28mlist\u001b[39m(output)\n\u001b[0;32m   1920\u001b[0m \u001b[38;5;66;03m# Let's create an ID that uniquely identifies the current call. If the\u001b[39;00m\n\u001b[0;32m   1921\u001b[0m \u001b[38;5;66;03m# call is interrupted early and that the same instance is immediately\u001b[39;00m\n\u001b[0;32m   1922\u001b[0m \u001b[38;5;66;03m# re-used, this id will be used to prevent workers that were\u001b[39;00m\n\u001b[0;32m   1923\u001b[0m \u001b[38;5;66;03m# concurrently finalizing a task from the previous call to run the\u001b[39;00m\n\u001b[0;32m   1924\u001b[0m \u001b[38;5;66;03m# callback.\u001b[39;00m\n\u001b[0;32m   1925\u001b[0m \u001b[38;5;28;01mwith\u001b[39;00m \u001b[38;5;28mself\u001b[39m\u001b[38;5;241m.\u001b[39m_lock:\n",
      "File \u001b[1;32m~\\miniconda3\\envs\\688y\\Lib\\site-packages\\joblib\\parallel.py:1847\u001b[0m, in \u001b[0;36mParallel._get_sequential_output\u001b[1;34m(self, iterable)\u001b[0m\n\u001b[0;32m   1845\u001b[0m \u001b[38;5;28mself\u001b[39m\u001b[38;5;241m.\u001b[39mn_dispatched_batches \u001b[38;5;241m+\u001b[39m\u001b[38;5;241m=\u001b[39m \u001b[38;5;241m1\u001b[39m\n\u001b[0;32m   1846\u001b[0m \u001b[38;5;28mself\u001b[39m\u001b[38;5;241m.\u001b[39mn_dispatched_tasks \u001b[38;5;241m+\u001b[39m\u001b[38;5;241m=\u001b[39m \u001b[38;5;241m1\u001b[39m\n\u001b[1;32m-> 1847\u001b[0m res \u001b[38;5;241m=\u001b[39m func(\u001b[38;5;241m*\u001b[39margs, \u001b[38;5;241m*\u001b[39m\u001b[38;5;241m*\u001b[39mkwargs)\n\u001b[0;32m   1848\u001b[0m \u001b[38;5;28mself\u001b[39m\u001b[38;5;241m.\u001b[39mn_completed_tasks \u001b[38;5;241m+\u001b[39m\u001b[38;5;241m=\u001b[39m \u001b[38;5;241m1\u001b[39m\n\u001b[0;32m   1849\u001b[0m \u001b[38;5;28mself\u001b[39m\u001b[38;5;241m.\u001b[39mprint_progress()\n",
      "File \u001b[1;32m~\\miniconda3\\envs\\688y\\Lib\\site-packages\\joblib\\memory.py:577\u001b[0m, in \u001b[0;36mMemorizedFunc.__call__\u001b[1;34m(self, *args, **kwargs)\u001b[0m\n\u001b[0;32m    575\u001b[0m \u001b[38;5;28;01mdef\u001b[39;00m \u001b[38;5;21m__call__\u001b[39m(\u001b[38;5;28mself\u001b[39m, \u001b[38;5;241m*\u001b[39margs, \u001b[38;5;241m*\u001b[39m\u001b[38;5;241m*\u001b[39mkwargs):\n\u001b[0;32m    576\u001b[0m     \u001b[38;5;66;03m# Return the output, without the metadata\u001b[39;00m\n\u001b[1;32m--> 577\u001b[0m     \u001b[38;5;28;01mreturn\u001b[39;00m \u001b[38;5;28mself\u001b[39m\u001b[38;5;241m.\u001b[39m_cached_call(args, kwargs, shelving\u001b[38;5;241m=\u001b[39m\u001b[38;5;28;01mFalse\u001b[39;00m)[\u001b[38;5;241m0\u001b[39m]\n",
      "File \u001b[1;32m~\\miniconda3\\envs\\688y\\Lib\\site-packages\\joblib\\memory.py:532\u001b[0m, in \u001b[0;36mMemorizedFunc._cached_call\u001b[1;34m(self, args, kwargs, shelving)\u001b[0m\n\u001b[0;32m    526\u001b[0m     \u001b[38;5;28mself\u001b[39m\u001b[38;5;241m.\u001b[39mwarn(\n\u001b[0;32m    527\u001b[0m         \u001b[38;5;124mf\u001b[39m\u001b[38;5;124m\"\u001b[39m\u001b[38;5;124mComputing func \u001b[39m\u001b[38;5;132;01m{\u001b[39;00mfunc_name\u001b[38;5;132;01m}\u001b[39;00m\u001b[38;5;124m, argument hash \u001b[39m\u001b[38;5;132;01m{\u001b[39;00margs_id\u001b[38;5;132;01m}\u001b[39;00m\u001b[38;5;124m \u001b[39m\u001b[38;5;124m\"\u001b[39m\n\u001b[0;32m    528\u001b[0m         \u001b[38;5;124mf\u001b[39m\u001b[38;5;124m\"\u001b[39m\u001b[38;5;124min location \u001b[39m\u001b[38;5;132;01m{\u001b[39;00mlocation\u001b[38;5;132;01m}\u001b[39;00m\u001b[38;5;124m\"\u001b[39m\n\u001b[0;32m    529\u001b[0m     )\n\u001b[0;32m    531\u001b[0m \u001b[38;5;66;03m# Returns the output but not the metadata\u001b[39;00m\n\u001b[1;32m--> 532\u001b[0m \u001b[38;5;28;01mreturn\u001b[39;00m \u001b[38;5;28mself\u001b[39m\u001b[38;5;241m.\u001b[39m_call(call_id, args, kwargs, shelving)\n",
      "File \u001b[1;32m~\\miniconda3\\envs\\688y\\Lib\\site-packages\\joblib\\memory.py:771\u001b[0m, in \u001b[0;36mMemorizedFunc._call\u001b[1;34m(self, call_id, args, kwargs, shelving)\u001b[0m\n\u001b[0;32m    769\u001b[0m \u001b[38;5;28mself\u001b[39m\u001b[38;5;241m.\u001b[39m_before_call(args, kwargs)\n\u001b[0;32m    770\u001b[0m start_time \u001b[38;5;241m=\u001b[39m time\u001b[38;5;241m.\u001b[39mtime()\n\u001b[1;32m--> 771\u001b[0m output \u001b[38;5;241m=\u001b[39m \u001b[38;5;28mself\u001b[39m\u001b[38;5;241m.\u001b[39mfunc(\u001b[38;5;241m*\u001b[39margs, \u001b[38;5;241m*\u001b[39m\u001b[38;5;241m*\u001b[39mkwargs)\n\u001b[0;32m    772\u001b[0m \u001b[38;5;28;01mreturn\u001b[39;00m \u001b[38;5;28mself\u001b[39m\u001b[38;5;241m.\u001b[39m_after_call(call_id, args, kwargs, shelving,\n\u001b[0;32m    773\u001b[0m                         output, start_time)\n",
      "File \u001b[1;32m~\\miniconda3\\envs\\688y\\Lib\\site-packages\\contextily\\tile.py:313\u001b[0m, in \u001b[0;36m_fetch_tile\u001b[1;34m(tile_url, wait, max_retries)\u001b[0m\n\u001b[0;32m    312\u001b[0m \u001b[38;5;28;01mdef\u001b[39;00m \u001b[38;5;21m_fetch_tile\u001b[39m(tile_url, wait, max_retries):\n\u001b[1;32m--> 313\u001b[0m     array \u001b[38;5;241m=\u001b[39m _retryer(tile_url, wait, max_retries)\n\u001b[0;32m    314\u001b[0m     \u001b[38;5;28;01mreturn\u001b[39;00m array\n",
      "File \u001b[1;32m~\\miniconda3\\envs\\688y\\Lib\\site-packages\\contextily\\tile.py:471\u001b[0m, in \u001b[0;36m_retryer\u001b[1;34m(tile_url, wait, max_retries)\u001b[0m\n\u001b[0;32m    469\u001b[0m     time\u001b[38;5;241m.\u001b[39msleep(wait)\n\u001b[0;32m    470\u001b[0m     max_retries \u001b[38;5;241m-\u001b[39m\u001b[38;5;241m=\u001b[39m \u001b[38;5;241m1\u001b[39m\n\u001b[1;32m--> 471\u001b[0m     request \u001b[38;5;241m=\u001b[39m _retryer(tile_url, wait, max_retries)\n\u001b[0;32m    472\u001b[0m \u001b[38;5;28;01melse\u001b[39;00m:\n\u001b[0;32m    473\u001b[0m     \u001b[38;5;28;01mraise\u001b[39;00m requests\u001b[38;5;241m.\u001b[39mHTTPError(\u001b[38;5;124m\"\u001b[39m\u001b[38;5;124mConnection reset by peer too many times. \u001b[39m\u001b[38;5;124m\"\u001b[39m\n\u001b[0;32m    474\u001b[0m                              \u001b[38;5;124mf\u001b[39m\u001b[38;5;124m\"\u001b[39m\u001b[38;5;124mLast message was: \u001b[39m\u001b[38;5;132;01m{\u001b[39;00mrequest\u001b[38;5;241m.\u001b[39mstatus_code\u001b[38;5;132;01m}\u001b[39;00m\u001b[38;5;124m \u001b[39m\u001b[38;5;124m\"\u001b[39m\n\u001b[0;32m    475\u001b[0m                              \u001b[38;5;124mf\u001b[39m\u001b[38;5;124m\"\u001b[39m\u001b[38;5;124mError: \u001b[39m\u001b[38;5;132;01m{\u001b[39;00mrequest\u001b[38;5;241m.\u001b[39mreason\u001b[38;5;132;01m}\u001b[39;00m\u001b[38;5;124m for url: \u001b[39m\u001b[38;5;132;01m{\u001b[39;00mrequest\u001b[38;5;241m.\u001b[39murl\u001b[38;5;132;01m}\u001b[39;00m\u001b[38;5;124m\"\u001b[39m)\n",
      "File \u001b[1;32m~\\miniconda3\\envs\\688y\\Lib\\site-packages\\contextily\\tile.py:471\u001b[0m, in \u001b[0;36m_retryer\u001b[1;34m(tile_url, wait, max_retries)\u001b[0m\n\u001b[0;32m    469\u001b[0m     time\u001b[38;5;241m.\u001b[39msleep(wait)\n\u001b[0;32m    470\u001b[0m     max_retries \u001b[38;5;241m-\u001b[39m\u001b[38;5;241m=\u001b[39m \u001b[38;5;241m1\u001b[39m\n\u001b[1;32m--> 471\u001b[0m     request \u001b[38;5;241m=\u001b[39m _retryer(tile_url, wait, max_retries)\n\u001b[0;32m    472\u001b[0m \u001b[38;5;28;01melse\u001b[39;00m:\n\u001b[0;32m    473\u001b[0m     \u001b[38;5;28;01mraise\u001b[39;00m requests\u001b[38;5;241m.\u001b[39mHTTPError(\u001b[38;5;124m\"\u001b[39m\u001b[38;5;124mConnection reset by peer too many times. \u001b[39m\u001b[38;5;124m\"\u001b[39m\n\u001b[0;32m    474\u001b[0m                              \u001b[38;5;124mf\u001b[39m\u001b[38;5;124m\"\u001b[39m\u001b[38;5;124mLast message was: \u001b[39m\u001b[38;5;132;01m{\u001b[39;00mrequest\u001b[38;5;241m.\u001b[39mstatus_code\u001b[38;5;132;01m}\u001b[39;00m\u001b[38;5;124m \u001b[39m\u001b[38;5;124m\"\u001b[39m\n\u001b[0;32m    475\u001b[0m                              \u001b[38;5;124mf\u001b[39m\u001b[38;5;124m\"\u001b[39m\u001b[38;5;124mError: \u001b[39m\u001b[38;5;132;01m{\u001b[39;00mrequest\u001b[38;5;241m.\u001b[39mreason\u001b[38;5;132;01m}\u001b[39;00m\u001b[38;5;124m for url: \u001b[39m\u001b[38;5;132;01m{\u001b[39;00mrequest\u001b[38;5;241m.\u001b[39murl\u001b[38;5;132;01m}\u001b[39;00m\u001b[38;5;124m\"\u001b[39m)\n",
      "File \u001b[1;32m~\\miniconda3\\envs\\688y\\Lib\\site-packages\\contextily\\tile.py:473\u001b[0m, in \u001b[0;36m_retryer\u001b[1;34m(tile_url, wait, max_retries)\u001b[0m\n\u001b[0;32m    471\u001b[0m     request \u001b[38;5;241m=\u001b[39m _retryer(tile_url, wait, max_retries)\n\u001b[0;32m    472\u001b[0m \u001b[38;5;28;01melse\u001b[39;00m:\n\u001b[1;32m--> 473\u001b[0m     \u001b[38;5;28;01mraise\u001b[39;00m requests\u001b[38;5;241m.\u001b[39mHTTPError(\u001b[38;5;124m\"\u001b[39m\u001b[38;5;124mConnection reset by peer too many times. \u001b[39m\u001b[38;5;124m\"\u001b[39m\n\u001b[0;32m    474\u001b[0m                              \u001b[38;5;124mf\u001b[39m\u001b[38;5;124m\"\u001b[39m\u001b[38;5;124mLast message was: \u001b[39m\u001b[38;5;132;01m{\u001b[39;00mrequest\u001b[38;5;241m.\u001b[39mstatus_code\u001b[38;5;132;01m}\u001b[39;00m\u001b[38;5;124m \u001b[39m\u001b[38;5;124m\"\u001b[39m\n\u001b[0;32m    475\u001b[0m                              \u001b[38;5;124mf\u001b[39m\u001b[38;5;124m\"\u001b[39m\u001b[38;5;124mError: \u001b[39m\u001b[38;5;132;01m{\u001b[39;00mrequest\u001b[38;5;241m.\u001b[39mreason\u001b[38;5;132;01m}\u001b[39;00m\u001b[38;5;124m for url: \u001b[39m\u001b[38;5;132;01m{\u001b[39;00mrequest\u001b[38;5;241m.\u001b[39murl\u001b[38;5;132;01m}\u001b[39;00m\u001b[38;5;124m\"\u001b[39m)\n",
      "\u001b[1;31mHTTPError\u001b[0m: Connection reset by peer too many times. Last message was: 500 Error: Domain Not Found for url: https://stamen-tiles-a.a.ssl.fastly.net/toner-lite/20/524288/524287.png"
     ]
    },
    {
     "data": {
      "image/png": "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",
      "text/plain": [
       "<Figure size 1000x1000 with 1 Axes>"
      ]
     },
     "metadata": {},
     "output_type": "display_data"
    }
   ],
   "source": [
    "# --- Notebook Setup ---\n",
    "import geopandas as gpd\n",
    "import pandas as pd\n",
    "import matplotlib.pyplot as plt\n",
    "\n",
    "# Optional: Use contextily for basemaps\n",
    "import contextily as ctx\n",
    "\n",
    "# --- 1. Load Data ---\n",
    "# Update these paths as needed\n",
    "parcels = gpd.read_file(\"data/Property_PY.shp\")\n",
    "zoning = gpd.read_file(\"data/Clean_Zoning_Py.shp\")  # Changed to .shp\n",
    "stations_buffer = gpd.read_file(\"data/Metro_One_Mile_Buffer_Py.shp\")  # Changed to .shp\n",
    "\n",
    "# Ensure both datasets use the same CRS\n",
    "parcels = parcels.to_crs(epsg=3857)\n",
    "zoning = zoning.to_crs(parcels.crs)\n",
    "\n",
    "# --- 2. Load or define station buffers ---\n",
    "# Already loaded above as shapefile\n",
    "# Filter parcels within 0.5-mile of stations\n",
    "buffered_parcels = gpd.sjoin(parcels, stations_buffer, how=\"inner\", predicate=\"intersects\")\n",
    "\n",
    "# --- 3. Ensure No Conflicting Columns Before Spatial Join ---\n",
    "# Check if there are conflicting columns (e.g., 'index_right') and rename them\n",
    "if 'index_right' in buffered_parcels.columns:\n",
    "    buffered_parcels = buffered_parcels.rename(columns={'index_right': 'buffer_index_right'})\n",
    "\n",
    "if 'index_right' in zoning.columns:\n",
    "    zoning = zoning.rename(columns={'index_right': 'zoning_index_right'})\n",
    "\n",
    "# --- 4. Join with zoning ---\n",
    "# Assumes both datasets have a common spatial reference and zoning codes can be joined\n",
    "parcels_zoned = gpd.sjoin(buffered_parcels, zoning, how=\"left\", predicate=\"intersects\")\n",
    "\n",
    "# --- 5. Estimate Built and Allowed Density ---\n",
    "# Placeholder: You’ll need to update with actual field names\n",
    "# Example: Built units and parcel area\n",
    "parcels_zoned[\"built_density\"] = parcels_zoned[\"ACREAGE\"] / parcels_zoned[\"geometry\"].area * 43560  # convert to acres\n",
    "\n",
    "# Placeholder: Estimate allowed density based on zoning code lookup\n",
    "zoning_lookup = {\n",
    "    \"R-55\": 6,   # units per acre\n",
    "    \"R-35\": 12,  # hypothetical\n",
    "    \"R-10\": 30,  # etc.\n",
    "}\n",
    "parcels_zoned[\"allowed_density\"] = parcels_zoned[\"ZONE_TYPE\"].map(zoning_lookup)\n",
    "\n",
    "# --- 6. Underutilization Ratio ---\n",
    "parcels_zoned[\"utilization_ratio\"] = parcels_zoned[\"built_density\"] / parcels_zoned[\"allowed_density\"]\n",
    "\n",
    "# Flag underutilized parcels (e.g., below 50% of allowed density)\n",
    "parcels_zoned[\"underutilized\"] = parcels_zoned[\"utilization_ratio\"] < 0.5\n",
    "\n",
    "# --- 7. Preview and Plot ---\n",
    "parcels_zoned[[\"ZONE_TYPE\", \"built_density\", \"allowed_density\", \"utilization_ratio\", \"underutilized\"]].head()\n",
    "\n",
    "# Optional: visualize\n",
    "fig, ax = plt.subplots(figsize=(10, 10))\n",
    "parcels_zoned.plot(ax=ax, column=\"underutilized\", cmap=\"coolwarm\", legend=True)\n",
    "ctx.add_basemap(ax, source=ctx.providers.Stamen.TonerLite)\n",
    "plt.title(\"Underutilized Parcels near Metro Stations\")\n",
    "plt.axis(\"off\")\n",
    "plt.show()\n",
    "\n"
   ]
  },
  {
   "cell_type": "code",
   "execution_count": 29,
   "id": "5d020a8f-4c99-4ff3-b505-ad67bb6979d5",
   "metadata": {},
   "outputs": [
    {
     "name": "stdout",
     "output_type": "stream",
     "text": [
      "  EXIST    SHAPE_AREA      SHAPE_LEN  \\\n",
      "0   Yes  8.713860e+07   33133.126897   \n",
      "1   Yes  2.230248e+08   66728.268989   \n",
      "2   Yes  3.015744e+08   84223.582625   \n",
      "3   Yes  5.232450e+08  145505.869925   \n",
      "\n",
      "                                            geometry  \n",
      "0  POLYGON ((1342867.694 489544.989, 1342787.479 ...  \n",
      "1  POLYGON ((1337991.269 477719.651, 1337911.054 ...  \n",
      "2  POLYGON ((1342708.293 422521.844, 1342628.078 ...  \n",
      "3  POLYGON ((1341344.882 455232.097, 1341264.667 ...  \n"
     ]
    }
   ],
   "source": [
    "station_buffers = \"data/Metro_One_Mile_Buffer_PY.shp\"\n",
    "\n",
    "station_buffers_gdf = gpd.read_file(metro)\n",
    "\n",
    "print(station_buffers_gdf.head())"
   ]
  },
  {
   "cell_type": "code",
   "execution_count": 30,
   "id": "a069ed96-249b-42e9-9856-6363efc789aa",
   "metadata": {},
   "outputs": [
    {
     "name": "stdout",
     "output_type": "stream",
     "text": [
      "COMPD_CS[\"NAD83 / Maryland (ftUS) + NAVD88 height\",PROJCS[\"NAD83 / Maryland (ftUS)\",GEOGCS[\"NAD83\",DATUM[\"North_American_Datum_1983\",SPHEROID[\"GRS 1980\",6378137,298.257222101,AUTHORITY[\"EPSG\",\"7019\"]],AUTHORITY[\"EPSG\",\"6269\"]],PRIMEM[\"Greenwich\",0],UNIT[\"Degree\",0.0174532925199433]],PROJECTION[\"Lambert_Conformal_Conic_2SP\"],PARAMETER[\"latitude_of_origin\",37.6666666666667],PARAMETER[\"central_meridian\",-77],PARAMETER[\"standard_parallel_1\",38.3],PARAMETER[\"standard_parallel_2\",39.45],PARAMETER[\"false_easting\",1312333.33333333],PARAMETER[\"false_northing\",0],UNIT[\"US survey foot\",0.304800609601219,AUTHORITY[\"EPSG\",\"9003\"]],AXIS[\"Easting\",EAST],AXIS[\"Northing\",NORTH]],VERT_CS[\"NAVD88 height\",VERT_DATUM[\"North American Vertical Datum 1988\",2005],UNIT[\"metre\",1,AUTHORITY[\"EPSG\",\"9001\"]],AXIS[\"Gravity-related height\",UP]]]\n"
     ]
    }
   ],
   "source": [
    "print(station_buffers_gdf.crs)\n"
   ]
  },
  {
   "cell_type": "code",
   "execution_count": 3,
   "id": "67387298-3623-4c45-aac2-6f953dc44698",
   "metadata": {},
   "outputs": [
    {
     "name": "stdout",
     "output_type": "stream",
     "text": [
      "   PROP_ID  ACREAGE    SHAPE_AREA   SHAPE_LEN  \\\n",
      "0       94      0.0   5872.099852  298.238131   \n",
      "1      100      0.0  10799.017182  473.600602   \n",
      "2      104      0.0   5396.372012  294.604096   \n",
      "3      109      0.0   5376.989082  297.857683   \n",
      "4      113      0.0   5044.403500  300.999937   \n",
      "\n",
      "                                            geometry  \n",
      "0  POLYGON ((1338939.061 448963.263, 1338865.351 ...  \n",
      "1  POLYGON ((1345875.736 447683.797, 1345877.202 ...  \n",
      "2  POLYGON ((1338780.631 449001.803, 1338807.751 ...  \n",
      "3  POLYGON ((1339325.811 448978.203, 1339299.52 4...  \n",
      "4  POLYGON ((1338939.061 448963.263, 1338939.86 4...  \n"
     ]
    }
   ],
   "source": [
    "import geopandas as gpd\n",
    "\n",
    "# Replace with the actual path to your shapefile\n",
    "parcels = \"data/Property_Py.shp\"\n",
    "\n",
    "# Load the shapefile into a GeoDataFrame\n",
    "parcels_gdf = gpd.read_file(parcels)\n",
    "\n",
    "# Check the first few rows of the data\n",
    "print(parcels_gdf.head())\n"
   ]
  },
  {
   "cell_type": "code",
   "execution_count": 33,
   "id": "4fef46f8-12c8-4824-992e-5172e7983769",
   "metadata": {},
   "outputs": [
    {
     "name": "stdout",
     "output_type": "stream",
     "text": [
      "Parcels Column Names:\n",
      "Index(['PROP_ID', 'ACREAGE', 'SHAPE_AREA', 'SHAPE_LEN', 'geometry'], dtype='object')\n",
      "\n",
      "Zoning Column Names:\n",
      "Index(['ZONE_TYPE', 'CLASS', 'SHAPE_AREA', 'SHAPE_LEN', 'geometry'], dtype='object')\n",
      "\n",
      "Station Buffers Column Names:\n",
      "Index(['EXIST', 'SHAPE_AREA', 'SHAPE_LEN', 'geometry'], dtype='object')\n"
     ]
    }
   ],
   "source": [
    "# Check column names for the parcels dataset\n",
    "print(\"Parcels Column Names:\")\n",
    "print(parcels.columns)\n",
    "\n",
    "# Check column names for the zoning dataset\n",
    "print(\"\\nZoning Column Names:\")\n",
    "print(zoning.columns)\n",
    "\n",
    "# Check column names for the station buffer dataset\n",
    "print(\"\\nStation Buffers Column Names:\")\n",
    "print(stations_buffer.columns)\n"
   ]
  },
  {
   "cell_type": "code",
   "execution_count": 32,
   "id": "ef952a6b-e22d-43bf-8133-73234c8fc299",
   "metadata": {},
   "outputs": [
    {
     "ename": "NameError",
     "evalue": "name 'parcels_gdf' is not defined",
     "output_type": "error",
     "traceback": [
      "\u001b[1;31m---------------------------------------------------------------------------\u001b[0m",
      "\u001b[1;31mNameError\u001b[0m                                 Traceback (most recent call last)",
      "Cell \u001b[1;32mIn[32], line 2\u001b[0m\n\u001b[0;32m      1\u001b[0m \u001b[38;5;66;03m# Check the column names\u001b[39;00m\n\u001b[1;32m----> 2\u001b[0m \u001b[38;5;28mprint\u001b[39m(parcels_gdf\u001b[38;5;241m.\u001b[39mcolumns)\n",
      "\u001b[1;31mNameError\u001b[0m: name 'parcels_gdf' is not defined"
     ]
    }
   ],
   "source": [
    "# Check the column names\n",
    "print(parcels_gdf.columns)\n",
    "\n"
   ]
  },
  {
   "cell_type": "code",
   "execution_count": 17,
   "id": "594648f7-489a-4645-9d5f-547bb6fc150d",
   "metadata": {},
   "outputs": [
    {
     "name": "stderr",
     "output_type": "stream",
     "text": [
      "C:\\Users\\mboch\\miniconda3\\envs\\688y\\Lib\\site-packages\\pyogrio\\raw.py:198: RuntimeWarning: organizePolygons() received an unexpected geometry.  Either a polygon with interior rings, or a polygon with less than 4 points, or a non-Polygon geometry.  Return arguments as a collection.\n",
      "  return ogr_read(\n"
     ]
    },
    {
     "name": "stdout",
     "output_type": "stream",
     "text": [
      "   ZONE_TYPE CLASS    SHAPE_AREA     SHAPE_LEN  \\\n",
      "0          1    AG  8.522413e+05   4385.722434   \n",
      "1          1    AG  2.189576e+05   2220.592556   \n",
      "2          1    AG  2.464384e+06  10302.156651   \n",
      "3          1    AG  9.382763e+06  14345.719153   \n",
      "4          1    AG  5.541874e+06  12179.960959   \n",
      "\n",
      "                                            geometry  \n",
      "0  POLYGON ((1391001.61 329396.624, 1390964.255 3...  \n",
      "1  POLYGON ((1395158.899 345479.203, 1395180.782 ...  \n",
      "2  POLYGON ((1404388.91 348666.59, 1404558.749 34...  \n",
      "3  POLYGON ((1373257.911 351090.141, 1373252.737 ...  \n",
      "4  POLYGON ((1355406.35 360830.149, 1355365.221 3...  \n"
     ]
    }
   ],
   "source": [
    "zoning = \"data/Zoning_Py.shp\"\n",
    "\n",
    "zoning_gdf = gpd.read_file(zoning)\n",
    "\n",
    "print(zoning_gdf.head())"
   ]
  },
  {
   "cell_type": "code",
   "execution_count": 18,
   "id": "8c1165da-ef34-49b8-a798-cc7f567f9153",
   "metadata": {},
   "outputs": [
    {
     "name": "stdout",
     "output_type": "stream",
     "text": [
      "0\n",
      "0\n",
      "(12491, 5)\n"
     ]
    }
   ],
   "source": [
    "print(zoning_gdf.is_empty.sum())  # Check if there are any empty geometries\n",
    "print(zoning_gdf.geometry.isnull().sum())  # Check if there are any null geometries\n",
    "print(zoning_gdf.shape)  # Check the number of rows and columns before any operations\n"
   ]
  },
  {
   "cell_type": "code",
   "execution_count": 19,
   "id": "b580e3d9-f86e-43b8-bae8-b15215d3a3e4",
   "metadata": {},
   "outputs": [
    {
     "name": "stdout",
     "output_type": "stream",
     "text": [
      "(10, 5)\n"
     ]
    }
   ],
   "source": [
    "invalid_geometries = zoning_gdf[~zoning_gdf.is_valid]\n",
    "print(invalid_geometries.shape)  # Check how many invalid geometries exist\n"
   ]
  },
  {
   "cell_type": "code",
   "execution_count": 21,
   "id": "e64224d8-8c17-448c-a336-56ebcc1190cd",
   "metadata": {},
   "outputs": [
    {
     "name": "stdout",
     "output_type": "stream",
     "text": [
      "(0, 5)\n"
     ]
    }
   ],
   "source": [
    "zoning_gdf['geometry'] = zoning_gdf['geometry'].apply(lambda x: x.buffer(0) if not x.is_valid else x)\n",
    "invalid_geometries = zoning_gdf[~zoning_gdf.is_valid]\n",
    "print(invalid_geometries.shape)  # Check how many invalid geometries exist\n"
   ]
  },
  {
   "cell_type": "code",
   "execution_count": 25,
   "id": "a5a9cb38-495d-4f98-8e52-281aa339fe53",
   "metadata": {},
   "outputs": [],
   "source": [
    "zoning_gdf.to_file('data/Clean_Zoning_PY.gpkg', driver='GPKG')\n",
    "\n"
   ]
  },
  {
   "cell_type": "code",
   "execution_count": 37,
   "id": "0778d526-2e50-45aa-a719-5ec167fb011d",
   "metadata": {},
   "outputs": [
    {
     "name": "stdout",
     "output_type": "stream",
     "text": [
      "Parcels CRS: PROJCS[\"NAD83(2011) / Maryland (ftUS)\",GEOGCS[\"NAD83(2011)\",DATUM[\"NAD83_National_Spatial_Reference_System_2011\",SPHEROID[\"GRS 1980\",6378137,298.257222101,AUTHORITY[\"EPSG\",\"7019\"]],AUTHORITY[\"EPSG\",\"1116\"]],PRIMEM[\"Greenwich\",0],UNIT[\"Degree\",0.0174532925199433]],PROJECTION[\"Lambert_Conformal_Conic_2SP\"],PARAMETER[\"latitude_of_origin\",37.6666666666667],PARAMETER[\"central_meridian\",-77],PARAMETER[\"standard_parallel_1\",38.3],PARAMETER[\"standard_parallel_2\",39.45],PARAMETER[\"false_easting\",1312333.33333333],PARAMETER[\"false_northing\",0],UNIT[\"US survey foot\",0.304800609601219,AUTHORITY[\"EPSG\",\"9003\"]],AXIS[\"Easting\",EAST],AXIS[\"Northing\",NORTH]]\n",
      "Zoning CRS: PROJCS[\"NAD83(2011) / Maryland (ftUS)\",GEOGCS[\"NAD83(2011)\",DATUM[\"NAD83_National_Spatial_Reference_System_2011\",SPHEROID[\"GRS 1980\",6378137,298.257222101,AUTHORITY[\"EPSG\",\"7019\"]],AUTHORITY[\"EPSG\",\"1116\"]],PRIMEM[\"Greenwich\",0],UNIT[\"Degree\",0.0174532925199433]],PROJECTION[\"Lambert_Conformal_Conic_2SP\"],PARAMETER[\"latitude_of_origin\",37.6666666666667],PARAMETER[\"central_meridian\",-77],PARAMETER[\"standard_parallel_1\",38.3],PARAMETER[\"standard_parallel_2\",39.45],PARAMETER[\"false_easting\",1312333.33333333],PARAMETER[\"false_northing\",0],UNIT[\"US survey foot\",0.304800609601219,AUTHORITY[\"EPSG\",\"9003\"]],AXIS[\"Easting\",EAST],AXIS[\"Northing\",NORTH]]\n",
      "Station Buffers CRS: COMPD_CS[\"NAD83 / Maryland (ftUS) + NAVD88 height\",PROJCS[\"NAD83 / Maryland (ftUS)\",GEOGCS[\"NAD83\",DATUM[\"North_American_Datum_1983\",SPHEROID[\"GRS 1980\",6378137,298.257222101,AUTHORITY[\"EPSG\",\"7019\"]],AUTHORITY[\"EPSG\",\"6269\"]],PRIMEM[\"Greenwich\",0],UNIT[\"Degree\",0.0174532925199433]],PROJECTION[\"Lambert_Conformal_Conic_2SP\"],PARAMETER[\"latitude_of_origin\",37.6666666666667],PARAMETER[\"central_meridian\",-77],PARAMETER[\"standard_parallel_1\",38.3],PARAMETER[\"standard_parallel_2\",39.45],PARAMETER[\"false_easting\",1312333.33333333],PARAMETER[\"false_northing\",0],UNIT[\"US survey foot\",0.304800609601219,AUTHORITY[\"EPSG\",\"9003\"]],AXIS[\"Easting\",EAST],AXIS[\"Northing\",NORTH]],VERT_CS[\"NAVD88 height\",VERT_DATUM[\"North American Vertical Datum 1988\",2005],UNIT[\"metre\",1,AUTHORITY[\"EPSG\",\"9001\"]],AXIS[\"Gravity-related height\",UP]]]\n"
     ]
    }
   ],
   "source": [
    "# Load the datasets\n",
    "parcels = gpd.read_file(\"data/Property_PY.shp\")\n",
    "zoning = gpd.read_file(\"data/Clean_Zoning_PY.gpkg\")\n",
    "stations_buffer = gpd.read_file(\"data/Metro_One_Mile_Buffer_Py.shp\")\n",
    "\n",
    "# Check the CRS of each dataset\n",
    "print(\"Parcels CRS:\", parcels.crs)\n",
    "print(\"Zoning CRS:\", zoning.crs)\n",
    "print(\"Station Buffers CRS:\", stations_buffer.crs)\n"
   ]
  },
  {
   "cell_type": "code",
   "execution_count": 7,
   "id": "fc538e42-9b24-4b6b-869d-7807c757d9f9",
   "metadata": {},
   "outputs": [
    {
     "name": "stdout",
     "output_type": "stream",
     "text": [
      "       ZONE_TYPE  CLASS    SHAPE_AREA     SHAPE_LEN  \\\n",
      "41             1     AG  3.595401e+07  30654.457490   \n",
      "133            5    LCD  9.601637e-01     30.737505   \n",
      "167            1     AG  1.971841e+05   3851.945576   \n",
      "3405           2     RR  1.054951e+06   4672.433272   \n",
      "4586           2     RR  4.878465e+05   4658.250949   \n",
      "11027          1     AG  1.381463e+08  76030.245477   \n",
      "11344          1     AG  4.085460e+07  52727.845598   \n",
      "11373          4  TAC-E  4.899078e+05   3504.630318   \n",
      "11536          2  RSF-A  1.227876e+06   7099.898973   \n",
      "11849          1     AG  6.385214e+07  63723.461923   \n",
      "\n",
      "                                                geometry  \n",
      "41     POLYGON ((1390753.248 377736.022, 1390750.027 ...  \n",
      "133    POLYGON ((1378828.782 490217.739, 1378819.816 ...  \n",
      "167    POLYGON ((1329359.336 466350.49, 1329408.641 4...  \n",
      "3405   POLYGON ((1310046.608 363653.344, 1310073.825 ...  \n",
      "4586   POLYGON ((1379101.35 471911.281, 1379077.442 4...  \n",
      "11027  POLYGON ((1383940.085 351510.023, 1383950.534 ...  \n",
      "11344  POLYGON ((1391616.539 330887.064, 1391603.441 ...  \n",
      "11373  POLYGON ((1360171.974 421052.12, 1360171.974 4...  \n",
      "11536  POLYGON ((1366310.476 467241.493, 1366310.51 4...  \n",
      "11849  POLYGON ((1396507.474 437917.944, 1395764.86 4...  \n"
     ]
    }
   ],
   "source": [
    "# Check for invalid geometries\n",
    "invalid_geometries = zoning_gdf[~zoning_gdf.is_valid]\n",
    "print(invalid_geometries)"
   ]
  },
  {
   "cell_type": "code",
   "execution_count": 10,
   "id": "3288a506-5c0c-475c-ba58-d45c6cae0c69",
   "metadata": {},
   "outputs": [
    {
     "name": "stdout",
     "output_type": "stream",
     "text": [
      "       ZONE_TYPE  CLASS    SHAPE_AREA     SHAPE_LEN  \\\n",
      "41             1     AG  3.595401e+07  30654.457490   \n",
      "133            5    LCD  9.601637e-01     30.737505   \n",
      "167            1     AG  1.971841e+05   3851.945576   \n",
      "3405           2     RR  1.054951e+06   4672.433272   \n",
      "4586           2     RR  4.878465e+05   4658.250949   \n",
      "11027          1     AG  1.381463e+08  76030.245477   \n",
      "11344          1     AG  4.085460e+07  52727.845598   \n",
      "11373          4  TAC-E  4.899078e+05   3504.630318   \n",
      "11536          2  RSF-A  1.227876e+06   7099.898973   \n",
      "11849          1     AG  6.385214e+07  63723.461923   \n",
      "\n",
      "                                                geometry  \n",
      "41     POLYGON ((1390753.248 377736.022, 1390750.027 ...  \n",
      "133    POLYGON ((1378828.782 490217.739, 1378819.816 ...  \n",
      "167    POLYGON ((1329359.336 466350.49, 1329408.641 4...  \n",
      "3405   POLYGON ((1310046.608 363653.344, 1310073.825 ...  \n",
      "4586   POLYGON ((1379101.35 471911.281, 1379077.442 4...  \n",
      "11027  POLYGON ((1383940.085 351510.023, 1383950.534 ...  \n",
      "11344  POLYGON ((1391616.539 330887.064, 1391603.441 ...  \n",
      "11373  POLYGON ((1360171.974 421052.12, 1360171.974 4...  \n",
      "11536  POLYGON ((1366310.476 467241.493, 1366310.51 4...  \n",
      "11849  POLYGON ((1396507.474 437917.944, 1395764.86 4...  \n"
     ]
    }
   ],
   "source": [
    "# Check for geometries that are not simple\n",
    "non_simple_geometries = zoning_gdf[zoning_gdf['geometry'].apply(lambda x: not x.is_simple)]\n",
    "print(non_simple_geometries)\n",
    "\n"
   ]
  },
  {
   "cell_type": "code",
   "execution_count": 11,
   "id": "6851eafc-8ffb-4c7e-9985-227f9696f34d",
   "metadata": {},
   "outputs": [
    {
     "name": "stdout",
     "output_type": "stream",
     "text": [
      "Empty GeoDataFrame\n",
      "Columns: [ZONE_TYPE, CLASS, SHAPE_AREA, SHAPE_LEN, geometry]\n",
      "Index: []\n"
     ]
    }
   ],
   "source": [
    "# Fix minor issues such as self-intersections or small inaccuracies\n",
    "zoning_gdf['geometry'] = zoning_gdf['geometry'].buffer(0)\n",
    "\n",
    "# Recheck for invalid geometries after applying buffer(0)\n",
    "invalid_geometries_fixed = zoning_gdf[~zoning_gdf.is_valid]\n",
    "print(invalid_geometries_fixed)\n",
    "\n",
    "\n"
   ]
  },
  {
   "cell_type": "code",
   "execution_count": 12,
   "id": "385202d9-ee4d-4195-adad-1320f9e7f726",
   "metadata": {},
   "outputs": [
    {
     "name": "stdout",
     "output_type": "stream",
     "text": [
      "       ZONE_TYPE   CLASS    SHAPE_AREA     SHAPE_LEN  \\\n",
      "11351          2      RR  3.571290e+06   8486.297332   \n",
      "12038          1     ROS  9.190831e+06  20722.289390   \n",
      "12243          2  RSF-65  1.756005e+06  19203.807805   \n",
      "\n",
      "                                                geometry  \n",
      "11351  MULTIPOLYGON (((1345747.125 381061.094, 134630...  \n",
      "12038  MULTIPOLYGON (((1400722.939 435836.592, 140067...  \n",
      "12243  MULTIPOLYGON (((1338829.991 445608.797, 133888...  \n"
     ]
    }
   ],
   "source": [
    "# Check for non-Polygon geometries\n",
    "non_polygon_geometries = zoning_gdf[zoning_gdf['geometry'].geom_type != 'Polygon']\n",
    "print(non_polygon_geometries)\n"
   ]
  },
  {
   "cell_type": "code",
   "execution_count": 15,
   "id": "7f0f5f6b-c094-4cd0-990f-46737949f0e7",
   "metadata": {},
   "outputs": [],
   "source": [
    "from shapely.geometry import Polygon, MultiPolygon\n",
    "\n",
    "# Convert MULTIPOLYGON to POLYGON by extracting individual polygons\n",
    "zoning_gdf['geometry'] = zoning_gdf['geometry'].apply(lambda x: x.geoms[0] if isinstance(x, MultiPolygon) else x)\n",
    "\n"
   ]
  },
  {
   "cell_type": "code",
   "execution_count": 16,
   "id": "7d5a2f29-7a90-4440-9949-fc029f588d7c",
   "metadata": {},
   "outputs": [
    {
     "name": "stdout",
     "output_type": "stream",
     "text": [
      "Empty GeoDataFrame\n",
      "Columns: [ZONE_TYPE, CLASS, SHAPE_AREA, SHAPE_LEN, geometry]\n",
      "Index: []\n",
      "Empty GeoDataFrame\n",
      "Columns: [ZONE_TYPE, CLASS, SHAPE_AREA, SHAPE_LEN, geometry]\n",
      "Index: []\n"
     ]
    }
   ],
   "source": [
    "# Check for invalid geometries again\n",
    "invalid_geometries = zoning_gdf[~zoning_gdf.is_valid]\n",
    "print(invalid_geometries)\n",
    "\n",
    "# Check for self-intersections\n",
    "self_intersections = zoning_gdf[zoning_gdf.is_valid & zoning_gdf.is_valid == False]\n",
    "print(self_intersections)\n"
   ]
<<<<<<< Updated upstream
>>>>>>> Stashed changes
=======
>>>>>>> Stashed changes
  }
 ],
 "metadata": {
  "kernelspec": {
   "display_name": "Python 3 (ipykernel)",
   "language": "python",
   "name": "python3"
  },
  "language_info": {
   "codemirror_mode": {
    "name": "ipython",
    "version": 3
   },
   "file_extension": ".py",
   "mimetype": "text/x-python",
   "name": "python",
   "nbconvert_exporter": "python",
   "pygments_lexer": "ipython3",
<<<<<<< Updated upstream
<<<<<<< Updated upstream
   "version": "3.13.1"
=======
   "version": "3.12.3"
>>>>>>> Stashed changes
=======
   "version": "3.12.3"
>>>>>>> Stashed changes
  }
 },
 "nbformat": 4,
 "nbformat_minor": 5
}
