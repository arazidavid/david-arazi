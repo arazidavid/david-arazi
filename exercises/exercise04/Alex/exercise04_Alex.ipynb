{
 "cells": [
  {
   "cell_type": "markdown",
   "id": "7c5dc20b-8e96-4a11-9c86-977256acff9b",
   "metadata": {},
   "source": [
    "Alex McRoberts\n",
    "Exercise 04\n",
    "\n",
    "Research Question:\n",
    "How can we operationalize and compare multiple definitions of transit-supportive density (TSD) for Metro station areas in Washington, DC?\n",
    "\n",
    "This portion of the analysis will focus on:\n",
    "- Selecting multiple TSD metrics from the literature\n",
    "- Gathering and preparing relevant data\n",
    "- Calculating at least one TSD metric (e.g., people + jobs per acre) for all Metro station buffers"
   ]
  },
  {
   "cell_type": "code",
   "execution_count": null,
   "id": "bdc00832-2ad5-40a7-8786-a0d021a6c07b",
   "metadata": {},
   "outputs": [],
   "source": [
    "# 1. Load necessary packages\n",
    "\n",
    "# 2. Load datasets\n",
    "    # a. WMATA Metrorail station locations\n",
    "    # b. DC Census tract shapefiles with ACS demographic data\n",
    "    # c. LEHD LODES employment data\n",
    "\n",
    "# 3. Project all datasets to a common CRS for Maryland.\n",
    "\n",
    "# 4. Create 0.5-mile buffers around each Metro station\n",
    "\n",
    "# 5. Spatial join Census tracts and/or LODES data to buffers\n",
    "\n",
    "# 6. Aggregate population, housing units, and jobs within each buffer\n",
    "\n",
    "# 7. Calculate:\n",
    "    # - Population density (people per acre)\n",
    "    # - Jobs density (jobs per acre)\n",
    "    # - Combined people + jobs per acre\n",
    "\n",
    "# 8. Compare initial results across stations\n",
    "\n",
    "# 9. Visualize initial density distributions\n"
   ]
  },
  {
   "cell_type": "markdown",
   "id": "262fd73c-151f-4336-a959-711fcbefc2a9",
   "metadata": {},
   "source": [
    "Transit-Supportive Density Metrics\n",
    "\n",
    "Population Density (residents per acre)\tTCRP Report 102\t\n",
    "    ~12–15 DU/acre supports frequent bus; 20+ DU/acre for rail\n",
    "Combined Population + Jobs Density\tTCRP Report 128\n",
    "    45 people + jobs per acre supports light rail/BRT\n",
    "Net Residential Density (excluding roads, parks) Urban Land Institute\n",
    "    Focuses on usable land\n",
    "Floor Area Ratio (FAR)\tEPA TOD Guidelines\n",
    "    ~1.0 FAR for light rail TOD\n",
    "Walkshed Accessibility (Isochrone Analysis)\tITDP TOD Standard\n",
    "    Access to 80% of daily needs within 15-minute walk"
   ]
  },
  {
   "cell_type": "code",
   "execution_count": null,
   "id": "bb7863f8-5fea-4aee-8e9d-8e333a0c82fd",
   "metadata": {},
   "outputs": [],
   "source": [
    "# 1. Import packages\n",
    "import pandas as pd\n",
    "import geopandas as gpd\n",
    "import matplotlib.pyplot as plt\n",
    "import os\n",
    "\n",
    "# 2. File Paths\n",
    "station_fp = \"Metro_Stations_in_DC.geojson\"\n",
    "tracts_fp = \"data/dc_census_tracts.geojson\"\n",
    "acs_fp = \"data/acs_population_data.csv\"\n",
    "lodes_fp = \"data/lehd_lodes_dc.csv\"\n",
    "\n",
    "# 3. Load data\n",
    "stations = gpd.read_file(station_fp)\n",
    "tracts = gpd.read_file(tracts_fp)\n",
    "acs = pd.read_csv(acs_fp)\n",
    "lodes = pd.read_csv(lodes_fp)\n",
    "\n",
    "# 4. CRS Check - Project everything to Maryland State Plane (EPSG:26985)\n",
    "stations = stations.to_crs(epsg=26985)\n",
    "tracts = tracts.to_crs(epsg=26985)"
   ]
  },
  {
   "cell_type": "code",
   "execution_count": null,
   "id": "8381d33a-10e9-47ca-96d7-70034064830c",
   "metadata": {},
   "outputs": [],
   "source": [
    "# 5. Merge ACS data into Census tracts\n",
    "tracts = tracts.merge(acs, on=\"GEOID\")\n",
    "\n",
    "# Merge in jobs data (LODES)\n",
    "tracts = tracts.merge(lodes, on=\"GEOID\")"
   ]
  },
  {
   "cell_type": "code",
   "execution_count": null,
   "id": "3d641b3d-5617-4a25-8cdd-973657fc4887",
   "metadata": {},
   "outputs": [],
   "source": [
    "# 6. Create 0.5-mile buffers around Metro stations\n",
    "# 0.5 miles = 804.672 meters\n",
    "stations[\"geometry\"] = stations.buffer(804.672)"
   ]
  },
  {
   "cell_type": "code",
   "execution_count": null,
   "id": "e8d0209d-f33e-40bb-be8a-a5a91846e5f6",
   "metadata": {},
   "outputs": [],
   "source": [
    "# 7. Spatial Join: Find which tracts intersect each station buffer\n",
    "# This is a one-to-many relationship: many tracts may touch one station buffer\n",
    "join = gpd.sjoin(tracts, stations, predicate=\"intersects\")"
   ]
  },
  {
   "cell_type": "code",
   "execution_count": null,
   "id": "7567770c-45fa-49f3-9feb-3ca9af1b70d2",
   "metadata": {},
   "outputs": [],
   "source": [
    "# 8. Aggregate population and jobs for each station\n",
    "# Assume ACS table has 'population' field and LODES table has 'jobs' field\n",
    "station_summary = join.groupby('index_right').agg({\n",
    "    'population': 'sum',\n",
    "    'jobs': 'sum',\n",
    "    'geometry': 'first'  # Keep buffer geometry for plotting\n",
    "}).reset_index()"
   ]
  },
  {
   "cell_type": "code",
   "execution_count": null,
   "id": "7f1a88da-d871-446c-84da-a08ff1945966",
   "metadata": {},
   "outputs": [],
   "source": [
    "# 9. Calculate combined people + jobs per acre\n",
    "# First calculate buffer area in acres\n",
    "station_summary = gpd.GeoDataFrame(station_summary, geometry='geometry', crs=stations.crs)\n",
    "station_summary[\"area_acres\"] = station_summary.geometry.area / 4046.86  # 1 acre = 4046.86 m^2\n",
    "\n",
    "# Calculate density\n",
    "station_summary[\"people_jobs_per_acre\"] = (station_summary[\"population\"] + station_summary[\"jobs\"]) / station_summary[\"area_acres\"]"
   ]
  },
  {
   "cell_type": "code",
   "execution_count": null,
   "id": "adf29150-92ca-4407-9035-fb779c23960e",
   "metadata": {},
   "outputs": [],
   "source": [
    "# 10. Simple Visualization\n",
    "plt.figure(figsize=(10,6))\n",
    "plt.hist(station_summary[\"people_jobs_per_acre\"], bins=20, edgecolor=\"black\")\n",
    "plt.title(\"Distribution of People + Jobs per Acre around Metro Stations (0.5-mile buffer)\")\n",
    "plt.xlabel(\"People + Jobs per Acre\")\n",
    "plt.ylabel(\"Number of Stations\")\n",
    "plt.grid(True)\n",
    "plt.show()"
   ]
  }
 ],
 "metadata": {
  "kernelspec": {
   "display_name": "Python 3 (ipykernel)",
   "language": "python",
   "name": "python3"
  },
  "language_info": {
   "codemirror_mode": {
    "name": "ipython",
    "version": 3
   },
   "file_extension": ".py",
   "mimetype": "text/x-python",
   "name": "python",
   "nbconvert_exporter": "python",
   "pygments_lexer": "ipython3",
   "version": "3.12.8"
  }
 },
 "nbformat": 4,
 "nbformat_minor": 5
}
