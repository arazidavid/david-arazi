{
 "cells": [
  {
   "cell_type": "markdown",
   "id": "61688034-24b5-4400-8b06-7e3188b283f1",
   "metadata": {},
   "source": [
    "Urban Data Science & Smart Cities <br>\n",
    "URSP688Y Spring 2025<br>\n",
    "Instructor: Chester Harvey <br>\n",
    "Urban Studies & Planning <br>\n",
    "National Center for Smart Growth <br>\n",
    "University of Maryland"
   ]
  },
  {
   "cell_type": "markdown",
   "id": "3f9c1002-000c-4080-a9f1-43e319e7d0be",
   "metadata": {},
   "source": [
    "# Exercise04\n",
    "\n",
    "This last exercise is an opportunity for you to get started on your final project. Please identify a portion of your project to get started on and submit a notebook (and any other related files) where you:\n",
    "\n",
    "1. State the question you are aiming to address with this portion of your analysis\n",
    "2. Outline the approach you will use to answer that question (pseudocode or you can start to more formally outline the approach section for your final narrative)\n",
    "3. Operationalize your approach with data and code that you can later slot into your final analysis\n",
    "\n",
    "## Submitting\n",
    "\n",
    "Please make a pull request with all of your code and reasonably-sized data in a folder with your first name. See the example with my name in the `exercise04` directory.\n",
    "\n",
    "If you have datasets that are too large for GitHub or should not be made public, please upload them to a cloud location (e.g., Google Drive) to which I (and ideally your classmates) have access. Please also provide instructions for how someone running your code should properly locate or connect to these files so the analysis will run properly. For example, should they copy and paste the files into the same directory as your notebook, or a provided `data` directory? Best practice is to include these instructions in a separate ReadMe.md or ReadMe.txt file, or at the top of your notebook."
   ]
  },
  {
   "cell_type": "code",
   "execution_count": null,
   "id": "420ca685-0efb-449a-b225-03f6c0f2f265",
   "metadata": {},
   "outputs": [],
   "source": [
    "#Analyzing Public Transportation Access and Housing Affordability for Hispanic\n",
    "#Communities in Washington, D.C.\n",
    "\n",
    "#This study seeks to address the following questions:\n",
    "#1. How does the spatial distribution of affordable housing units in Washington, D.C.\n",
    "#relate to access to public transit services for Hispanic populations?\n",
    "#2. To what extent are Hispanic-majority census tracts located near high-frequency or\n",
    "#multimodal transit services (e.g., Metrorail, Metrobus)?\n",
    "#3. How has gentrification affected the proximity of Hispanic residents to public\n",
    "#transit infrastructure over time?"
   ]
  },
  {
   "cell_type": "code",
   "execution_count": null,
   "id": "1520d252-ba00-4330-b13e-7551d3d42807",
   "metadata": {},
   "outputs": [],
   "source": [
    "# 1. First Install necessary packages\n",
    "\n",
    "!pip install pandas\n",
    "!pip install geopandas\n",
    "!pip install matplotlib"
   ]
  },
  {
   "cell_type": "code",
   "execution_count": null,
   "id": "b048e9bf-c09f-40b5-aa17-32107cef451b",
   "metadata": {},
   "outputs": [],
   "source": [
    "# 2. Import libraries\n",
    "import pandas as pd\n",
    "import os\n",
    "\n",
    "# Import geopandas\n",
    "import geopandas as gpd\n",
    "import matplotlib.pyplot as plt"
   ]
  },
  {
   "cell_type": "code",
   "execution_count": null,
   "id": "394be6bd-a8f0-48ef-a6d8-9a0b43a1a8db",
   "metadata": {},
   "outputs": [],
   "source": [
    "# 3. Check the directory Folder and files, to verify the files are there to be used for future codes.\n",
    "os.getcwd()\n",
    "os.listdir()"
   ]
  },
  {
   "cell_type": "code",
   "execution_count": null,
   "id": "bc3c4c9c-cec7-4e57-af40-d83bf6fe6f2f",
   "metadata": {},
   "outputs": [],
   "source": [
    "# 4. Load the CSV file without header\n",
    "hisp_pop_cbg_2023_df = pd.read_csv('hisp_pop_cbg_2023.csv', header=None)\n",
    "\n",
    "# 5. Get row 1 to use as new column names\n",
    "new_column_names = hisp_pop_cbg_2023_df.iloc[1].copy()\n",
    "\n",
    "# 6. Set the header as row 1\n",
    "hisp_pop_cbg_2023_df.columns = hisp_pop_cbg_2023_df.iloc[1]\n",
    "hisp_pop_cbg_2023_df = hisp_pop_cbg_2023_df.drop(index=1).reset_index(drop=True)\n",
    "\n",
    "# 7. Assign new headers\n",
    "hisp_pop_cbg_2023_df.columns = new_column_names\n",
    "\n",
    "# 8. Drop row 0 and 1\n",
    "hisp_pop_cbg_2023_df = hisp_pop_cbg_2023_df.drop(index=[0, 1]).reset_index(drop=True)\n",
    "\n",
    "# 9. Rename \"GIS Join Match Code\" to \"GISJOIN\"\n",
    "hisp_pop_cbg_2023_df = hisp_pop_cbg_2023_df.rename(columns={\"GIS Join Match Code\": \"GISJOIN\"})\n",
    "\n",
    "# 10. Reset index\n",
    "hisp_pop_cbg_2023_df = hisp_pop_cbg_2023_df.reset_index()"
   ]
  },
  {
   "cell_type": "code",
   "execution_count": null,
   "id": "4e7f9729-c699-45da-899b-206d0639ab52",
   "metadata": {},
   "outputs": [],
   "source": [
    "# Preview the DataFrame\n",
    "hisp_pop_cbg_2023_df.head()"
   ]
  },
  {
   "cell_type": "code",
   "execution_count": null,
   "id": "7f28bb42-bad7-4567-84bb-a0d475185b44",
   "metadata": {},
   "outputs": [],
   "source": [
    "# 10. Load the shapefile\n",
    "wdc_cbg_2023_gdf = gpd.read_file('US_blck_grp_2023.shp')\n",
    "\n",
    "# Filter only for Washington, D.C. (STATEFP == '11')\n",
    "wdc_cbg_2023_gdf = wdc_cbg_2023_gdf[wdc_cbg_2023_gdf['STATEFP'] == \"11\"].reset_index(drop=True)"
   ]
  },
  {
   "cell_type": "code",
   "execution_count": null,
   "id": "92742d8e-6135-4ecf-8cb9-293d04fefd67",
   "metadata": {},
   "outputs": [],
   "source": [
    "# View the first few rows\n",
    "wdc_cbg_2023_gdf.head()"
   ]
  },
  {
   "cell_type": "code",
   "execution_count": null,
   "id": "1fc4452d-9c31-41b3-9211-a05281efad21",
   "metadata": {},
   "outputs": [],
   "source": [
    "# 11. Call the function join_df_to_gdf(df, gdf, label) \n",
    "# from the module data_prep.py \n",
    "import data_prep\n",
    "\n",
    "# call the function\n",
    "wdc_cbg_2023_gdf_merged = data_prep.join_df_to_gdf(hisp_pop_cbg_2023_df, wdc_cbg_2023_gdf, \"GISJOIN\")"
   ]
  },
  {
   "cell_type": "code",
   "execution_count": null,
   "id": "b238ad51-16d0-4fad-a76f-006d313ba7c5",
   "metadata": {},
   "outputs": [],
   "source": [
    "# View the first few rows\n",
    "wdc_cbg_2023_gdf_merged"
   ]
  },
  {
   "cell_type": "code",
   "execution_count": null,
   "id": "dc2e9f50-02a4-4df2-9ad0-5aed717f1a36",
   "metadata": {},
   "outputs": [],
   "source": [
    "# 12. Load transit stops shapefile *USED TRANSIT FREQUENCY DATA JUST IN CASE OF FURTHER ANALYSIS IN THE FUTURE\n",
    "transit_stops_frequency = gpd.read_file('aggregated_stop_loading.shp')\n",
    "\n",
    "# Check results\n",
    "print(transit_stops_frequency.shape)\n",
    "transit_stops_frequency.head()"
   ]
  },
  {
   "cell_type": "code",
   "execution_count": null,
   "id": "8ba9cdf8-03aa-4fa6-9446-e7148f6e1a3c",
   "metadata": {},
   "outputs": [],
   "source": [
    "# 13. Load Washington DC boundary shapefile\n",
    "dc_boundary = gpd.read_file('Washington_DC_Boundary.shp')\n",
    "\n",
    "#Check resultS\n",
    "print(dc_boundary.shape)\n",
    "dc_boundary.head()"
   ]
  },
  {
   "cell_type": "code",
   "execution_count": null,
   "id": "06d9cbed-4141-4565-adb5-f26bf9c2f5d7",
   "metadata": {},
   "outputs": [],
   "source": [
    "# 14. Load Affordable_Housing shapefile\n",
    "affordable_housing = gpd.read_file('Affordable_Housing.shp')"
   ]
  },
  {
   "cell_type": "code",
   "execution_count": null,
   "id": "1f2ab6a4-b2f5-45ea-9193-b69ffd6e0f4f",
   "metadata": {},
   "outputs": [],
   "source": [
    "# 15. Make sure the coordinate system is same accross the gdf s\n",
    "\n",
    "# Used the UTM system in case of distance analysis \n",
    "\n",
    "wdc_cbg_2023_gdf_merged = wdc_cbg_2023_gdf_merged.to_crs(epsg=3857)\n",
    "transit_stops_frequency = transit_stops_frequency.to_crs(epsg=3857)\n",
    "affordable_housing = affordable_housing.to_crs(epsg=3857)\n",
    "dc_boundary = dc_boundary.to_crs(epsg=3857)"
   ]
  },
  {
   "cell_type": "code",
   "execution_count": null,
   "id": "d59c72ca-82c2-44a6-8f57-a595539ab049",
   "metadata": {},
   "outputs": [],
   "source": [
    "# 16. Clip the transit_stops_frequency to dc_boundary\n",
    "transit_stops_frequency_clipped = gpd.clip(transit_stops_frequency, dc_boundary)\n",
    "\n",
    "#Check resultS\n",
    "transit_stops_frequency_clipped.head()"
   ]
  },
  {
   "cell_type": "code",
   "execution_count": null,
   "id": "b7090779-db6b-4a46-adfc-b7774c4766ce",
   "metadata": {},
   "outputs": [],
   "source": [
    "#CHECK THE MAP \n",
    "# Create a plot with a nice figure size\n",
    "fig, ax = plt.subplots(figsize=(12, 12))\n",
    "\n",
    "# Plot DC boundary first (background layer)\n",
    "dc_boundary.plot(ax=ax, color='white', edgecolor='black')\n",
    "\n",
    "# Plot CBGs (maybe with transparent fill so we can still see stops)\n",
    "wdc_cbg_2023_gdf_merged.plot(ax=ax, facecolor=\"none\", edgecolor=\"gray\", linewidth=0.5)\n",
    "\n",
    "# Plot Transit Stops\n",
    "transit_stops_frequency_clipped.plot(ax=ax, markersize=5, color='red', alpha=0.7)\n",
    "\n",
    "# Plot Affordable Housing projects\n",
    "affordable_housing.plot(ax=ax, markersize=10, color='blue', alpha=1)\n",
    "\n",
    "# Add title\n",
    "ax.set_title('Washington DC: CBGs, Transit Stops, and Boundary', fontsize=16)\n",
    "\n",
    "# Remove axis\n",
    "ax.set_axis_off()\n",
    "\n",
    "# Show the plot\n",
    "plt.show()"
   ]
  },
  {
   "cell_type": "code",
   "execution_count": null,
   "id": "c6b02bef-8b11-482e-86b2-011f56d0480a",
   "metadata": {},
   "outputs": [],
   "source": [
    "# 17. List the column names of affordable_housing\n",
    "affordable_housing.columns.tolist()"
   ]
  },
  {
   "cell_type": "code",
   "execution_count": null,
   "id": "80ab05ff-368b-4c4b-aa43-18587362650f",
   "metadata": {},
   "outputs": [],
   "source": [
    "# 18. Rename specific columns\n",
    "affordable_housing = affordable_housing.rename(columns={\n",
    "    'MAR_WARD': \"Ward Number\",\n",
    "    'PROJECT_NA': \"Project Name\",\n",
    "    'STATUS_PUB': \"Project Status\",\n",
    "    'AGENCY_CAL': \"Agency Name\",\n",
    "    'TOTAL_AFFO': \"Total Number of Affordable Housing Units\",\n",
    "    'AFFORDABLE': \"Number of Affordable Housing Units with 30% AMI or Lower\",\n",
    "    'AFFORDAB_1': \"Number of Affordable Housing Units with 31-50% AMI\",\n",
    "    'AFFORDAB_2': \"Number of Affordable Housing Units with 51-60% AMI\",\n",
    "    'AFFORDAB_3': \"Number of Affordable Housing Units with 61-80% AMI\",\n",
    "    'AFFORDAB_4': \"Number of Affordable Housing Units with 81% AMI or Higher\"\n",
    "})\n",
    "\n",
    "# Check results\n",
    "affordable_housing.head()"
   ]
  },
  {
   "cell_type": "code",
   "execution_count": null,
   "id": "8469f640-2e69-48ef-aecc-7415d39e7b52",
   "metadata": {},
   "outputs": [],
   "source": [
    "# 19. Spatially join the wdc_cbg_2023_gdf_merged with affordable_housing projects\n",
    "wdc_cbg_2023_aff_hous_sjoin = gpd.sjoin(\n",
    "    wdc_cbg_2023_gdf_merged,  # target GeoDataFrame (CBGs)\n",
    "    affordable_housing,           # join GeoDataFrame (affordable_housing)\n",
    "    how=\"left\",                   # keep all block groups, even if no affordable_housing\n",
    "    predicate=\"intersects\"        # spatial predicate (you could also use 'within' if needed)\n",
    ")\n",
    "\n",
    "# Optional: Check result\n",
    "wdc_cbg_2023_aff_hous_sjoin.head()"
   ]
  },
  {
   "cell_type": "code",
   "execution_count": null,
   "id": "a0943327-e8fc-4f33-b75d-c606791f816f",
   "metadata": {},
   "outputs": [],
   "source": [
    "# 20. Drop the old 'index_right' if it exists\n",
    "if 'index_right' in wdc_cbg_2023_aff_hous_sjoin.columns:\n",
    "    wdc_cbg_2023_aff_hous_sjoin = wdc_cbg_2023_aff_hous_sjoin.drop(columns=['index_right'])\n",
    "\n",
    "# Spatially join wdc_cbg_2023_aff_hous_sjoin with transit_stops_frequency_clipped projects\n",
    "wdc_cbg_2023_aff_hous_transit_sjoin = gpd.sjoin(\n",
    "    wdc_cbg_2023_aff_hous_sjoin,  # target GeoDataFrame (CBGs)\n",
    "    transit_stops_frequency_clipped,           # join GeoDataFrame (transit_stops_frequency_clipped)\n",
    "    how=\"left\",                   # keep all block groups, even if no transit_stops_frequency_clipped\n",
    "    predicate=\"intersects\"        # spatial predicate (you could also use 'within' if needed)\n",
    ")\n",
    "\n",
    "# Check results\n",
    "wdc_cbg_2023_aff_hous_transit_sjoin.head()"
   ]
  },
  {
   "cell_type": "code",
   "execution_count": null,
   "id": "c0c70e44-b072-4c76-a071-15c482c4ae3d",
   "metadata": {},
   "outputs": [],
   "source": [
    "wdc_cbg_2023_aff_hous_transit_sjoin.columns.tolist()"
   ]
  },
  {
   "cell_type": "code",
   "execution_count": null,
   "id": "7fe3a0eb-ff56-4826-b2af-a33e7ffb8182",
   "metadata": {},
   "outputs": [],
   "source": [
    "# Force unique columns by keeping only one 'Estimates: Total'\n",
    "wdc_cbg_2023_aff_hous_transit_sjoin = wdc_cbg_2023_aff_hous_transit_sjoin.loc[:, ~wdc_cbg_2023_aff_hous_transit_sjoin.columns.duplicated()]\n",
    "\n",
    "# Calculate Hispanic Population Percentage\n",
    "wdc_cbg_2023_aff_hous_transit_sjoin['Hispanic Population Percentage'] = (\n",
    "    wdc_cbg_2023_aff_hous_transit_sjoin['Estimates: Hispanic or Latino'].astype(float) /\n",
    "    wdc_cbg_2023_aff_hous_transit_sjoin['Estimates: Total'].astype(float)\n",
    ") * 100\n",
    "\n",
    "wdc_cbg_2023_aff_hous_transit_sjoin.head()"
   ]
  },
  {
   "cell_type": "code",
   "execution_count": null,
   "id": "5dff27bd-d77e-4316-9e7f-15a10487d2bd",
   "metadata": {},
   "outputs": [],
   "source": [
    "#CREATE A BIVARIATE CHOROPLETH MAP\n",
    "\n",
    "import matplotlib.pyplot as plt\n",
    "import numpy as np\n",
    "\n",
    "# 1. Classify each variable into quantiles\n",
    "wdc_cbg_2023_aff_hous_transit_sjoin['hispanic_quantile'] = pd.qcut(\n",
    "    wdc_cbg_2023_aff_hous_transit_sjoin['Hispanic Population Percentage'],\n",
    "    q=3,  # 3 classes: low, medium, high\n",
    "    labels=[1, 2, 3]\n",
    ")\n",
    "\n",
    "wdc_cbg_2023_aff_hous_transit_sjoin['housing_quantile'] = pd.qcut(\n",
    "    wdc_cbg_2023_aff_hous_transit_sjoin['Total Number of Affordable Housing Units'].fillna(0),\n",
    "    q=3,  # 3 classes\n",
    "    labels=[1, 2, 3]\n",
    ")\n",
    "\n",
    "# 2. Combine the two quantiles to create a bivariate class\n",
    "wdc_cbg_2023_aff_hous_transit_sjoin['bivariate_class'] = (\n",
    "    wdc_cbg_2023_aff_hous_transit_sjoin['hispanic_quantile'].astype(str) +\n",
    "    \"-\" +\n",
    "    wdc_cbg_2023_aff_hous_transit_sjoin['housing_quantile'].astype(str)\n",
    ")"
   ]
  },
  {
   "cell_type": "code",
   "execution_count": null,
   "id": "590c397f-a829-4d36-8e6c-723b4f6d121d",
   "metadata": {},
   "outputs": [],
   "source": [
    "# 3. Get the breakpoints for Hispanic Population Percentage\n",
    "hispanic_breaks = wdc_cbg_2023_aff_hous_transit_sjoin['Hispanic Population Percentage'].quantile([0, 1/3, 2/3, 1])\n",
    "print(\"Hispanic Population % quantiles:\")\n",
    "print(hispanic_breaks)\n",
    "\n",
    "# 4. Get the breakpoints for Total Number of Affordable Housing Units\n",
    "housing_breaks = wdc_cbg_2023_aff_hous_transit_sjoin['Total Number of Affordable Housing Units'].fillna(0).quantile([0, 1/3, 2/3, 1])\n",
    "print(\"\\nAffordable Housing Units quantiles:\")\n",
    "print(housing_breaks)"
   ]
  },
  {
   "cell_type": "code",
   "execution_count": null,
   "id": "5855eba1-195b-4c18-ad75-d6a8ef943df1",
   "metadata": {},
   "outputs": [],
   "source": [
    "# 5. Define a manual color palette for 3x3 combinations\n",
    "bivariate_color_dict = {\n",
    "    '1-1': '#e8e8e8',  # low hispanic, low housing\n",
    "    '1-2': '#ace4e4',\n",
    "    '1-3': '#5ac8c8',\n",
    "    '2-1': '#dfb0d6',\n",
    "    '2-2': '#a5add3',\n",
    "    '2-3': '#5698b9',\n",
    "    '3-1': '#be64ac',\n",
    "    '3-2': '#8c62aa',\n",
    "    '3-3': '#3b4994',  # high hispanic, high housing\n",
    "}"
   ]
  },
  {
   "cell_type": "code",
   "execution_count": null,
   "id": "4f286e9f-9d04-4232-a373-cd644ebac5b3",
   "metadata": {},
   "outputs": [],
   "source": [
    "# Set colors\n",
    "wdc_cbg_2023_aff_hous_transit_sjoin['color'] = wdc_cbg_2023_aff_hous_transit_sjoin['bivariate_class'].map(bivariate_color_dict)"
   ]
  },
  {
   "cell_type": "code",
   "execution_count": null,
   "id": "afc0ed60-0e55-4142-b0aa-313f85a0019a",
   "metadata": {},
   "outputs": [],
   "source": [
    "# 6. Drop rows without a color (where either variable was missing)\n",
    "plot_data = wdc_cbg_2023_aff_hous_transit_sjoin.dropna(subset=['color'])"
   ]
  },
  {
   "cell_type": "code",
   "execution_count": null,
   "id": "ef6f341f-83b3-4a82-b30d-02a5c3402e80",
   "metadata": {},
   "outputs": [],
   "source": [
    "import matplotlib.patches as mpatches\n",
    "\n",
    "# 1. Create a small figure for the legend\n",
    "fig, ax = plt.subplots(1, 1, figsize=(17, 17))\n",
    "\n",
    "# Plot your data\n",
    "plot_data.plot(\n",
    "    color=plot_data['color'],\n",
    "    linewidth=0.1,\n",
    "    edgecolor='white',\n",
    "    ax=ax\n",
    ")\n",
    "\n",
    "# Set title and remove axes\n",
    "ax.set_title('Bivariate Choropleth:\\nHispanic Population % vs Affordable Housing Units', fontsize=16)\n",
    "ax.set_axis_off()\n",
    "\n",
    "# 2. Build the legend manually\n",
    "\n",
    "# Define the position and size of the legend\n",
    "legend_labels = {\n",
    "    '3-3': \"Hispanic HIGH 10.6%-67.6% / Housing HIGH 26-741 units\",\n",
    "    '3-2': \"Hispanic HIGH 10.6%-67.6% / Housing MEDIUM 2-25 units\",\n",
    "    '3-1': \"Hispanic HIGH 10.6%-67.6% / Housing LOW 0-1 units\",\n",
    "    '2-3': \"Hispanic MEDIUM 3.3%-10.6% / Housing HIGH 26-741 units\",\n",
    "    '2-2': \"Hispanic MEDIUM 3.3%-10.6% / Housing MEDIUM 2-25 units\",\n",
    "    '2-1': \"Hispanic MEDIUM 3.3%-10.6% / Housing 0-3 units\",\n",
    "    '1-3': \"Hispanic LOW 0%-3.3% / Housing HIGH 26-741 units\",\n",
    "    '1-2': \"Hispanic LOW 0%-3.3% / Housing MEDIUM 2-25 units\",\n",
    "    '1-1': \"Hispanic LOW 0%-3.3% / Housing LOW 0-1 units\"\n",
    "}\n",
    "\n",
    "# Create patch rectangles\n",
    "patches = [mpatches.Patch(color=bivariate_color_dict[key], label=label)\n",
    "           for key, label in legend_labels.items()]\n",
    "\n",
    "# Add legend to the plot\n",
    "plt.legend(\n",
    "    handles=patches,\n",
    "    loc='lower left',\n",
    "    title='Legend',\n",
    "    fontsize='small',\n",
    "    title_fontsize='medium',\n",
    "    frameon=True,\n",
    "    framealpha=1\n",
    ")\n",
    "\n",
    "# Show the map\n",
    "plt.show()"
   ]
  },
  {
   "cell_type": "code",
   "execution_count": null,
   "id": "c19a9b6b-77ac-40c0-ad7d-41a9e5b0a20f",
   "metadata": {},
   "outputs": [],
   "source": [
    "#NExt steps, create an automatic way to make the legend and also explore the interactive map options like folium"
   ]
  },
  {
   "cell_type": "code",
   "execution_count": null,
   "id": "e06d1cbe-619d-415f-9232-c55fea24f449",
   "metadata": {},
   "outputs": [],
   "source": []
  },
  {
   "cell_type": "code",
   "execution_count": null,
   "id": "f418fd1e-bf40-4b19-90de-ef4762ab6b94",
   "metadata": {},
   "outputs": [],
   "source": []
  },
  {
   "cell_type": "code",
   "execution_count": null,
   "id": "060e37e7-4388-486d-a4cb-7623bbfc62f0",
   "metadata": {},
   "outputs": [],
   "source": []
  },
  {
   "cell_type": "code",
   "execution_count": null,
   "id": "6d2c9d43-2173-45c2-858a-61f50fa558f1",
   "metadata": {},
   "outputs": [],
   "source": []
  },
  {
   "cell_type": "code",
   "execution_count": null,
   "id": "88fda410-9271-4249-b7e3-2379752a2e5e",
   "metadata": {},
   "outputs": [],
   "source": []
  },
  {
   "cell_type": "code",
   "execution_count": null,
   "id": "817c72ba-b333-4604-800f-83f63ae4fa90",
   "metadata": {},
   "outputs": [],
   "source": []
  }
 ],
 "metadata": {
  "kernelspec": {
   "display_name": "Python 3 (ipykernel)",
   "language": "python",
   "name": "python3"
  },
  "language_info": {
   "codemirror_mode": {
    "name": "ipython",
    "version": 3
   },
   "file_extension": ".py",
   "mimetype": "text/x-python",
   "name": "python",
   "nbconvert_exporter": "python",
   "pygments_lexer": "ipython3",
   "version": "3.12.8"
  }
 },
 "nbformat": 4,
 "nbformat_minor": 5
}
