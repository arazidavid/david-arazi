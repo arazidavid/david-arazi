{
 "cells": [
  {
   "cell_type": "code",
   "execution_count": 43,
   "id": "83b094a6-52ba-47ba-9547-0ca60f68fd7d",
   "metadata": {},
   "outputs": [],
   "source": [
    "import pandas as pd\n",
    "import re"
   ]
  },
  {
   "cell_type": "code",
   "execution_count": 58,
   "id": "d85e30cb-c7d9-404f-8326-5de47b0ff5f0",
   "metadata": {},
   "outputs": [],
   "source": [
    "df = pd.read_csv('EPermit.csv')"
   ]
  },
  {
   "cell_type": "code",
   "execution_count": 45,
   "id": "2359497e-c999-416e-ae8c-ba726d715335",
   "metadata": {},
   "outputs": [
    {
     "data": {
      "text/html": [
       "<div>\n",
       "<style scoped>\n",
       "    .dataframe tbody tr th:only-of-type {\n",
       "        vertical-align: middle;\n",
       "    }\n",
       "\n",
       "    .dataframe tbody tr th {\n",
       "        vertical-align: top;\n",
       "    }\n",
       "\n",
       "    .dataframe thead th {\n",
       "        text-align: right;\n",
       "    }\n",
       "</style>\n",
       "<table border=\"1\" class=\"dataframe\">\n",
       "  <thead>\n",
       "    <tr style=\"text-align: right;\">\n",
       "      <th></th>\n",
       "      <th>PERMIT_NUMBER</th>\n",
       "      <th>CLASSIFICATION</th>\n",
       "      <th>REFERENCE_YEAR</th>\n",
       "      <th>APPLICATION_DATE</th>\n",
       "      <th>ISSUANCE_DATE</th>\n",
       "      <th>REVISION_ISSUED</th>\n",
       "      <th>WORK_DESCRIPTION</th>\n",
       "      <th>EXISTING_USE</th>\n",
       "      <th>PROPOSED_USE</th>\n",
       "      <th>USE_TYPE_NAME</th>\n",
       "      <th>...</th>\n",
       "      <th>STREET_TYPE_SUFFIX</th>\n",
       "      <th>STREET_TYPE_FULL</th>\n",
       "      <th>UNIT_NUMBER</th>\n",
       "      <th>CITY_1</th>\n",
       "      <th>CORRECTED_CITY</th>\n",
       "      <th>ZIP_CODE_5</th>\n",
       "      <th>CASE_STATUS_NAME</th>\n",
       "      <th>CASE_MODE_NAME</th>\n",
       "      <th>CASE_NAME</th>\n",
       "      <th>FEES_PAID</th>\n",
       "    </tr>\n",
       "  </thead>\n",
       "  <tbody>\n",
       "    <tr>\n",
       "      <th>0</th>\n",
       "      <td>28654-2011-3</td>\n",
       "      <td>Commercial</td>\n",
       "      <td>2011</td>\n",
       "      <td>10/29/2015 0:00:00</td>\n",
       "      <td>10/29/2015 0:00:00</td>\n",
       "      <td>10/29/2015 0:00:00</td>\n",
       "      <td>Renewal</td>\n",
       "      <td>VACANT LAND</td>\n",
       "      <td>CLUBHOUSE</td>\n",
       "      <td>Indoor/Outdoor Recreation Facility</td>\n",
       "      <td>...</td>\n",
       "      <td>DR</td>\n",
       "      <td>DRIVE</td>\n",
       "      <td>NaN</td>\n",
       "      <td>UPPER MARLBORO</td>\n",
       "      <td>UPPER MARLBORO</td>\n",
       "      <td>20774</td>\n",
       "      <td>APPLICATION ON HOLD, CORRESPONDENCE SENT</td>\n",
       "      <td>CLOSED</td>\n",
       "      <td>Westphalia Row Clubhouse</td>\n",
       "      <td>2454.00</td>\n",
       "    </tr>\n",
       "    <tr>\n",
       "      <th>1</th>\n",
       "      <td>29205-2011-12</td>\n",
       "      <td>Commercial</td>\n",
       "      <td>2011</td>\n",
       "      <td>10/22/2015 0:00:00</td>\n",
       "      <td>10/22/2015 0:00:00</td>\n",
       "      <td>10/22/2015 0:00:00</td>\n",
       "      <td>REV: CHANGE CONTRACTOR 12- REVISE TO CHANGE CO...</td>\n",
       "      <td>CHURCH</td>\n",
       "      <td>CHURCH</td>\n",
       "      <td>Church/Rectory/Synagogue</td>\n",
       "      <td>...</td>\n",
       "      <td>LN</td>\n",
       "      <td>LANE</td>\n",
       "      <td>NaN</td>\n",
       "      <td>DISTRICT HEIGHTS</td>\n",
       "      <td>DISTRICT HEIGHTS</td>\n",
       "      <td>20747</td>\n",
       "      <td>APPLICATION ON HOLD, CORRESPONDENCE SENT</td>\n",
       "      <td>PERMITTED</td>\n",
       "      <td>CHRISTIAN CONGREGATION ADDITION</td>\n",
       "      <td>3546.25</td>\n",
       "    </tr>\n",
       "    <tr>\n",
       "      <th>2</th>\n",
       "      <td>30149-2011-9</td>\n",
       "      <td>Commercial</td>\n",
       "      <td>2011</td>\n",
       "      <td>4/22/2013 0:00:00</td>\n",
       "      <td>11/7/2013 0:00:00</td>\n",
       "      <td>11/7/2013 0:00:00</td>\n",
       "      <td>REVISE TO ADD USE</td>\n",
       "      <td>VACANT LAND</td>\n",
       "      <td>APARTMENTS/MIXED USE/CLUBHOUSE</td>\n",
       "      <td>Apartment</td>\n",
       "      <td>...</td>\n",
       "      <td>DR</td>\n",
       "      <td>DRIVE</td>\n",
       "      <td>NaN</td>\n",
       "      <td>COLLEGE PARK</td>\n",
       "      <td>COLLEGE PARK</td>\n",
       "      <td>20740</td>\n",
       "      <td>APPLICATION ON HOLD, CORRESPONDENCE SENT</td>\n",
       "      <td>CLOSED</td>\n",
       "      <td>DOMAIN COLLEGE PARK</td>\n",
       "      <td>253869.00</td>\n",
       "    </tr>\n",
       "    <tr>\n",
       "      <th>3</th>\n",
       "      <td>34322-2011-2</td>\n",
       "      <td>Commercial</td>\n",
       "      <td>2011</td>\n",
       "      <td>8/20/2013 0:00:00</td>\n",
       "      <td>2/26/2014 0:00:00</td>\n",
       "      <td>2/26/2014 0:00:00</td>\n",
       "      <td>REVISE TO ANSWER FIRE COMMENTS</td>\n",
       "      <td>FAST FOOD/MCDONALDS</td>\n",
       "      <td>FAST FOOD/MCDONALDS</td>\n",
       "      <td>Food Store/Restaurant/Grocery</td>\n",
       "      <td>...</td>\n",
       "      <td>DR</td>\n",
       "      <td>DRIVE</td>\n",
       "      <td>NaN</td>\n",
       "      <td>LANDOVER</td>\n",
       "      <td>LANDOVER</td>\n",
       "      <td>20774</td>\n",
       "      <td>APPLICATION ON HOLD, CORRESPONDENCE SENT</td>\n",
       "      <td>ABANDONED</td>\n",
       "      <td>MCDONALDS ADDITION &amp; EXTERIOR</td>\n",
       "      <td>2600.00</td>\n",
       "    </tr>\n",
       "    <tr>\n",
       "      <th>4</th>\n",
       "      <td>35348-2011-6</td>\n",
       "      <td>Commercial</td>\n",
       "      <td>2011</td>\n",
       "      <td>4/24/2014 0:00:00</td>\n",
       "      <td>1/22/2015 0:00:00</td>\n",
       "      <td>1/22/2015 0:00:00</td>\n",
       "      <td>CHANGE TO ELECTRICAL SERVICE EQUIPMENT</td>\n",
       "      <td>CHURCH</td>\n",
       "      <td>SCHOOL</td>\n",
       "      <td>Church/Rectory/Synagogue</td>\n",
       "      <td>...</td>\n",
       "      <td>RD</td>\n",
       "      <td>ROAD</td>\n",
       "      <td>NaN</td>\n",
       "      <td>HYATTSVILLE</td>\n",
       "      <td>HYATTSVILLE</td>\n",
       "      <td>20782</td>\n",
       "      <td>APPLICATION ON HOLD, CORRESPONDENCE SENT</td>\n",
       "      <td>CLOSED</td>\n",
       "      <td>ST. JOHN DE LA SALLE</td>\n",
       "      <td>5864.00</td>\n",
       "    </tr>\n",
       "  </tbody>\n",
       "</table>\n",
       "<p>5 rows × 31 columns</p>\n",
       "</div>"
      ],
      "text/plain": [
       "   PERMIT_NUMBER CLASSIFICATION  REFERENCE_YEAR    APPLICATION_DATE  \\\n",
       "0   28654-2011-3     Commercial            2011  10/29/2015 0:00:00   \n",
       "1  29205-2011-12     Commercial            2011  10/22/2015 0:00:00   \n",
       "2   30149-2011-9     Commercial            2011   4/22/2013 0:00:00   \n",
       "3   34322-2011-2     Commercial            2011   8/20/2013 0:00:00   \n",
       "4   35348-2011-6     Commercial            2011   4/24/2014 0:00:00   \n",
       "\n",
       "        ISSUANCE_DATE     REVISION_ISSUED  \\\n",
       "0  10/29/2015 0:00:00  10/29/2015 0:00:00   \n",
       "1  10/22/2015 0:00:00  10/22/2015 0:00:00   \n",
       "2   11/7/2013 0:00:00   11/7/2013 0:00:00   \n",
       "3   2/26/2014 0:00:00   2/26/2014 0:00:00   \n",
       "4   1/22/2015 0:00:00   1/22/2015 0:00:00   \n",
       "\n",
       "                                    WORK_DESCRIPTION         EXISTING_USE  \\\n",
       "0                                            Renewal          VACANT LAND   \n",
       "1  REV: CHANGE CONTRACTOR 12- REVISE TO CHANGE CO...               CHURCH   \n",
       "2                                  REVISE TO ADD USE          VACANT LAND   \n",
       "3                     REVISE TO ANSWER FIRE COMMENTS  FAST FOOD/MCDONALDS   \n",
       "4             CHANGE TO ELECTRICAL SERVICE EQUIPMENT               CHURCH   \n",
       "\n",
       "                     PROPOSED_USE                       USE_TYPE_NAME  ...  \\\n",
       "0                       CLUBHOUSE  Indoor/Outdoor Recreation Facility  ...   \n",
       "1                          CHURCH            Church/Rectory/Synagogue  ...   \n",
       "2  APARTMENTS/MIXED USE/CLUBHOUSE                           Apartment  ...   \n",
       "3             FAST FOOD/MCDONALDS       Food Store/Restaurant/Grocery  ...   \n",
       "4                          SCHOOL            Church/Rectory/Synagogue  ...   \n",
       "\n",
       "  STREET_TYPE_SUFFIX STREET_TYPE_FULL UNIT_NUMBER            CITY_1  \\\n",
       "0                 DR            DRIVE         NaN    UPPER MARLBORO   \n",
       "1                 LN             LANE         NaN  DISTRICT HEIGHTS   \n",
       "2                 DR            DRIVE         NaN      COLLEGE PARK   \n",
       "3                 DR            DRIVE         NaN          LANDOVER   \n",
       "4                 RD             ROAD         NaN       HYATTSVILLE   \n",
       "\n",
       "     CORRECTED_CITY ZIP_CODE_5                          CASE_STATUS_NAME  \\\n",
       "0    UPPER MARLBORO      20774  APPLICATION ON HOLD, CORRESPONDENCE SENT   \n",
       "1  DISTRICT HEIGHTS      20747  APPLICATION ON HOLD, CORRESPONDENCE SENT   \n",
       "2      COLLEGE PARK      20740  APPLICATION ON HOLD, CORRESPONDENCE SENT   \n",
       "3          LANDOVER      20774  APPLICATION ON HOLD, CORRESPONDENCE SENT   \n",
       "4       HYATTSVILLE      20782  APPLICATION ON HOLD, CORRESPONDENCE SENT   \n",
       "\n",
       "  CASE_MODE_NAME                        CASE_NAME  FEES_PAID  \n",
       "0         CLOSED         Westphalia Row Clubhouse    2454.00  \n",
       "1      PERMITTED  CHRISTIAN CONGREGATION ADDITION    3546.25  \n",
       "2         CLOSED              DOMAIN COLLEGE PARK  253869.00  \n",
       "3      ABANDONED    MCDONALDS ADDITION & EXTERIOR    2600.00  \n",
       "4         CLOSED             ST. JOHN DE LA SALLE    5864.00  \n",
       "\n",
       "[5 rows x 31 columns]"
      ]
     },
     "execution_count": 45,
     "metadata": {},
     "output_type": "execute_result"
    }
   ],
   "source": [
    "df.head()"
   ]
  },
  {
   "cell_type": "markdown",
   "id": "e8977ccb-9407-426c-83a8-40e1dc22efbc",
   "metadata": {},
   "source": [
    "# Basic query for whether a cell contains a substring"
   ]
  },
  {
   "cell_type": "code",
   "execution_count": 74,
   "id": "55144f6d-c298-445f-a5ee-d97235d7eaaa",
   "metadata": {},
   "outputs": [],
   "source": [
    "df['apartment'] = (\n",
    "    (df.PROPOSED_USE.str.contains('apt', case=False, na=False))\n",
    "    | (df.PROPOSED_USE.str.contains('apart', case=False, na=False))\n",
    ").astype(int)"
   ]
  },
  {
   "cell_type": "code",
   "execution_count": 75,
   "id": "ba2517a6-4b17-4179-a3dd-0cab4c24e321",
   "metadata": {},
   "outputs": [
    {
     "data": {
      "text/plain": [
       "apartment\n",
       "0    12135\n",
       "1       96\n",
       "Name: count, dtype: int64"
      ]
     },
     "execution_count": 75,
     "metadata": {},
     "output_type": "execute_result"
    }
   ],
   "source": [
    "df['apartment'].value_counts()"
   ]
  },
  {
   "cell_type": "markdown",
   "id": "b12535b6-5c2f-4980-a43f-32f07147f19b",
   "metadata": {},
   "source": [
    "# Using regular expressions (regex) to accomplish the same thing with greater extensibility"
   ]
  },
  {
   "cell_type": "code",
   "execution_count": 70,
   "id": "5112409d-46be-4ba0-8278-e4912f022a7f",
   "metadata": {},
   "outputs": [],
   "source": [
    "df['apartment'] = df.PROPOSED_USE.str.contains(r'apart|apt', regex=True, case=False, na=False).astype(int)"
   ]
  },
  {
   "cell_type": "code",
   "execution_count": 71,
   "id": "ef318b5e-369e-4081-8f0d-ab161d3f8d38",
   "metadata": {},
   "outputs": [
    {
     "data": {
      "text/plain": [
       "apartment\n",
       "0    12135\n",
       "1       96\n",
       "Name: count, dtype: int64"
      ]
     },
     "execution_count": 71,
     "metadata": {},
     "output_type": "execute_result"
    }
   ],
   "source": [
    "df['apartment'].value_counts()"
   ]
  },
  {
   "cell_type": "code",
   "execution_count": null,
   "id": "ce23b1aa-6d4e-4b54-88c2-9d19f0a05882",
   "metadata": {},
   "outputs": [],
   "source": []
  }
 ],
 "metadata": {
  "kernelspec": {
   "display_name": "Python 3 (ipykernel)",
   "language": "python",
   "name": "python3"
  },
  "language_info": {
   "codemirror_mode": {
    "name": "ipython",
    "version": 3
   },
   "file_extension": ".py",
   "mimetype": "text/x-python",
   "name": "python",
   "nbconvert_exporter": "python",
   "pygments_lexer": "ipython3",
   "version": "3.13.1"
  }
 },
 "nbformat": 4,
 "nbformat_minor": 5
}
